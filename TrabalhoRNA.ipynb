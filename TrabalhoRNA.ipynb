{
  "cells": [
    {
      "cell_type": "markdown",
      "metadata": {
        "id": "R_q_Efe0QdP9"
      },
      "source": [
        "## Modelo para o Sensor CEI\n",
        "\n",
        "Este dataset **\"DataCEI.csv\"** possui informações dispostas em colunas sobre as características dos objetos que passam pelo sensor:\n",
        "\n",
        "* **Tamanho**:  Segue a classificação do CEI2020 (Tamanho='0' - Grande 100%).\n",
        "* **Referencia**:  Referência dinâmica do *Threshold.\n",
        "* **NumAmostra**:  Número de amostras adquiridas.\n",
        "* **Area**:  Somatório das Amplitudes das amostras.\n",
        "* **Delta**:  Máxima Amplitude da amostra.\n",
        "* **Output1**:  Peça tipo 1.\n",
        "* **Output2**:  Peça tipo 2.\n",
        "\n",
        "\n",
        "\n",
        "### Bibliotecas"
      ]
    },
    {
      "cell_type": "code",
      "execution_count": 1,
      "metadata": {
        "id": "EM-D5fjSQdQD"
      },
      "outputs": [],
      "source": [
        "import pandas as pd\n",
        "import numpy as np\n",
        "import matplotlib.pyplot as plt\n",
        "import seaborn as sns\n",
        "%matplotlib inline\n",
        "\n",
        "#Função do cáculo da sigmóide\n",
        "def sigmoid(x):\n",
        "    return 1/(1+np.exp(-x))"
      ]
    },
    {
      "cell_type": "markdown",
      "metadata": {
        "id": "FtmmDj0XQdQF"
      },
      "source": [
        "### Carregando os dados\n",
        "\n",
        "Vamos começar lendo o arquivo DataCEI.csv em um dataframe do pandas."
      ]
    },
    {
      "cell_type": "code",
      "execution_count": 2,
      "metadata": {
        "id": "9pksZO6eQ3I7"
      },
      "outputs": [],
      "source": [
        "url = 'https://drive.google.com/file/d/1ZtEpyOsBHIQxl_Nn4IsUopQO3rF9ZRf3/view?usp=sharing'\n",
        "url2 ='https://drive.google.com/uc?id=' + url.split('/')[-2]\n",
        "DataSet = pd.read_csv(url2)"
      ]
    },
    {
      "cell_type": "code",
      "execution_count": 3,
      "metadata": {
        "colab": {
          "base_uri": "https://localhost:8080/",
          "height": 206
        },
        "id": "YA1QrTvWQdQG",
        "outputId": "0a0cc561-e3ee-4581-955c-0eb4302f1b62"
      },
      "outputs": [
        {
          "output_type": "execute_result",
          "data": {
            "text/html": [
              "\n",
              "  <div id=\"df-0a475d35-8eb5-470d-bb81-b61f4ad09bd8\">\n",
              "    <div class=\"colab-df-container\">\n",
              "      <div>\n",
              "<style scoped>\n",
              "    .dataframe tbody tr th:only-of-type {\n",
              "        vertical-align: middle;\n",
              "    }\n",
              "\n",
              "    .dataframe tbody tr th {\n",
              "        vertical-align: top;\n",
              "    }\n",
              "\n",
              "    .dataframe thead th {\n",
              "        text-align: right;\n",
              "    }\n",
              "</style>\n",
              "<table border=\"1\" class=\"dataframe\">\n",
              "  <thead>\n",
              "    <tr style=\"text-align: right;\">\n",
              "      <th></th>\n",
              "      <th>Hora</th>\n",
              "      <th>Tamanho</th>\n",
              "      <th>Referencia</th>\n",
              "      <th>NumAmostra</th>\n",
              "      <th>Area</th>\n",
              "      <th>Delta</th>\n",
              "      <th>Output1</th>\n",
              "      <th>Output2</th>\n",
              "    </tr>\n",
              "  </thead>\n",
              "  <tbody>\n",
              "    <tr>\n",
              "      <th>0</th>\n",
              "      <td>13:00:06</td>\n",
              "      <td>53</td>\n",
              "      <td>25</td>\n",
              "      <td>69</td>\n",
              "      <td>81</td>\n",
              "      <td>68</td>\n",
              "      <td>1</td>\n",
              "      <td>0</td>\n",
              "    </tr>\n",
              "    <tr>\n",
              "      <th>1</th>\n",
              "      <td>13:00:07</td>\n",
              "      <td>53</td>\n",
              "      <td>26</td>\n",
              "      <td>89</td>\n",
              "      <td>87</td>\n",
              "      <td>56</td>\n",
              "      <td>1</td>\n",
              "      <td>0</td>\n",
              "    </tr>\n",
              "    <tr>\n",
              "      <th>2</th>\n",
              "      <td>13:00:08</td>\n",
              "      <td>53</td>\n",
              "      <td>27</td>\n",
              "      <td>68</td>\n",
              "      <td>69</td>\n",
              "      <td>55</td>\n",
              "      <td>1</td>\n",
              "      <td>0</td>\n",
              "    </tr>\n",
              "    <tr>\n",
              "      <th>3</th>\n",
              "      <td>13:00:09</td>\n",
              "      <td>53</td>\n",
              "      <td>28</td>\n",
              "      <td>36</td>\n",
              "      <td>50</td>\n",
              "      <td>80</td>\n",
              "      <td>1</td>\n",
              "      <td>0</td>\n",
              "    </tr>\n",
              "    <tr>\n",
              "      <th>4</th>\n",
              "      <td>13:00:10</td>\n",
              "      <td>53</td>\n",
              "      <td>29</td>\n",
              "      <td>71</td>\n",
              "      <td>72</td>\n",
              "      <td>50</td>\n",
              "      <td>1</td>\n",
              "      <td>0</td>\n",
              "    </tr>\n",
              "  </tbody>\n",
              "</table>\n",
              "</div>\n",
              "      <button class=\"colab-df-convert\" onclick=\"convertToInteractive('df-0a475d35-8eb5-470d-bb81-b61f4ad09bd8')\"\n",
              "              title=\"Convert this dataframe to an interactive table.\"\n",
              "              style=\"display:none;\">\n",
              "        \n",
              "  <svg xmlns=\"http://www.w3.org/2000/svg\" height=\"24px\"viewBox=\"0 0 24 24\"\n",
              "       width=\"24px\">\n",
              "    <path d=\"M0 0h24v24H0V0z\" fill=\"none\"/>\n",
              "    <path d=\"M18.56 5.44l.94 2.06.94-2.06 2.06-.94-2.06-.94-.94-2.06-.94 2.06-2.06.94zm-11 1L8.5 8.5l.94-2.06 2.06-.94-2.06-.94L8.5 2.5l-.94 2.06-2.06.94zm10 10l.94 2.06.94-2.06 2.06-.94-2.06-.94-.94-2.06-.94 2.06-2.06.94z\"/><path d=\"M17.41 7.96l-1.37-1.37c-.4-.4-.92-.59-1.43-.59-.52 0-1.04.2-1.43.59L10.3 9.45l-7.72 7.72c-.78.78-.78 2.05 0 2.83L4 21.41c.39.39.9.59 1.41.59.51 0 1.02-.2 1.41-.59l7.78-7.78 2.81-2.81c.8-.78.8-2.07 0-2.86zM5.41 20L4 18.59l7.72-7.72 1.47 1.35L5.41 20z\"/>\n",
              "  </svg>\n",
              "      </button>\n",
              "      \n",
              "  <style>\n",
              "    .colab-df-container {\n",
              "      display:flex;\n",
              "      flex-wrap:wrap;\n",
              "      gap: 12px;\n",
              "    }\n",
              "\n",
              "    .colab-df-convert {\n",
              "      background-color: #E8F0FE;\n",
              "      border: none;\n",
              "      border-radius: 50%;\n",
              "      cursor: pointer;\n",
              "      display: none;\n",
              "      fill: #1967D2;\n",
              "      height: 32px;\n",
              "      padding: 0 0 0 0;\n",
              "      width: 32px;\n",
              "    }\n",
              "\n",
              "    .colab-df-convert:hover {\n",
              "      background-color: #E2EBFA;\n",
              "      box-shadow: 0px 1px 2px rgba(60, 64, 67, 0.3), 0px 1px 3px 1px rgba(60, 64, 67, 0.15);\n",
              "      fill: #174EA6;\n",
              "    }\n",
              "\n",
              "    [theme=dark] .colab-df-convert {\n",
              "      background-color: #3B4455;\n",
              "      fill: #D2E3FC;\n",
              "    }\n",
              "\n",
              "    [theme=dark] .colab-df-convert:hover {\n",
              "      background-color: #434B5C;\n",
              "      box-shadow: 0px 1px 3px 1px rgba(0, 0, 0, 0.15);\n",
              "      filter: drop-shadow(0px 1px 2px rgba(0, 0, 0, 0.3));\n",
              "      fill: #FFFFFF;\n",
              "    }\n",
              "  </style>\n",
              "\n",
              "      <script>\n",
              "        const buttonEl =\n",
              "          document.querySelector('#df-0a475d35-8eb5-470d-bb81-b61f4ad09bd8 button.colab-df-convert');\n",
              "        buttonEl.style.display =\n",
              "          google.colab.kernel.accessAllowed ? 'block' : 'none';\n",
              "\n",
              "        async function convertToInteractive(key) {\n",
              "          const element = document.querySelector('#df-0a475d35-8eb5-470d-bb81-b61f4ad09bd8');\n",
              "          const dataTable =\n",
              "            await google.colab.kernel.invokeFunction('convertToInteractive',\n",
              "                                                     [key], {});\n",
              "          if (!dataTable) return;\n",
              "\n",
              "          const docLinkHtml = 'Like what you see? Visit the ' +\n",
              "            '<a target=\"_blank\" href=https://colab.research.google.com/notebooks/data_table.ipynb>data table notebook</a>'\n",
              "            + ' to learn more about interactive tables.';\n",
              "          element.innerHTML = '';\n",
              "          dataTable['output_type'] = 'display_data';\n",
              "          await google.colab.output.renderOutput(dataTable, element);\n",
              "          const docLink = document.createElement('div');\n",
              "          docLink.innerHTML = docLinkHtml;\n",
              "          element.appendChild(docLink);\n",
              "        }\n",
              "      </script>\n",
              "    </div>\n",
              "  </div>\n",
              "  "
            ],
            "text/plain": [
              "       Hora  Tamanho  Referencia  NumAmostra  Area  Delta  Output1  Output2\n",
              "0  13:00:06       53          25          69    81     68        1        0\n",
              "1  13:00:07       53          26          89    87     56        1        0\n",
              "2  13:00:08       53          27          68    69     55        1        0\n",
              "3  13:00:09       53          28          36    50     80        1        0\n",
              "4  13:00:10       53          29          71    72     50        1        0"
            ]
          },
          "metadata": {},
          "execution_count": 3
        }
      ],
      "source": [
        "DataSet.head()"
      ]
    },
    {
      "cell_type": "code",
      "execution_count": 4,
      "metadata": {
        "colab": {
          "base_uri": "https://localhost:8080/"
        },
        "id": "6ZUJchvou9Qu",
        "outputId": "6412ad7c-137c-4c4e-9b7e-fa125a6d7d20"
      },
      "outputs": [
        {
          "output_type": "execute_result",
          "data": {
            "text/plain": [
              "53    258\n",
              "64      3\n",
              "Name: Tamanho, dtype: int64"
            ]
          },
          "metadata": {},
          "execution_count": 4
        }
      ],
      "source": [
        "DataSet.Tamanho.value_counts()"
      ]
    },
    {
      "cell_type": "code",
      "execution_count": 5,
      "metadata": {
        "id": "2t1TvmKkQdQI"
      },
      "outputs": [],
      "source": [
        "DataSet.drop(['Hora', 'Tamanho' ],axis=1,inplace=True)"
      ]
    },
    {
      "cell_type": "code",
      "execution_count": 6,
      "metadata": {
        "colab": {
          "base_uri": "https://localhost:8080/",
          "height": 206
        },
        "id": "cRJudcpsQdQJ",
        "outputId": "9f0cdc21-8045-4ec9-d2da-673324664bae"
      },
      "outputs": [
        {
          "output_type": "execute_result",
          "data": {
            "text/html": [
              "\n",
              "  <div id=\"df-9aa54e83-984e-476c-a517-f7690b7f8136\">\n",
              "    <div class=\"colab-df-container\">\n",
              "      <div>\n",
              "<style scoped>\n",
              "    .dataframe tbody tr th:only-of-type {\n",
              "        vertical-align: middle;\n",
              "    }\n",
              "\n",
              "    .dataframe tbody tr th {\n",
              "        vertical-align: top;\n",
              "    }\n",
              "\n",
              "    .dataframe thead th {\n",
              "        text-align: right;\n",
              "    }\n",
              "</style>\n",
              "<table border=\"1\" class=\"dataframe\">\n",
              "  <thead>\n",
              "    <tr style=\"text-align: right;\">\n",
              "      <th></th>\n",
              "      <th>Referencia</th>\n",
              "      <th>NumAmostra</th>\n",
              "      <th>Area</th>\n",
              "      <th>Delta</th>\n",
              "      <th>Output1</th>\n",
              "      <th>Output2</th>\n",
              "    </tr>\n",
              "  </thead>\n",
              "  <tbody>\n",
              "    <tr>\n",
              "      <th>0</th>\n",
              "      <td>25</td>\n",
              "      <td>69</td>\n",
              "      <td>81</td>\n",
              "      <td>68</td>\n",
              "      <td>1</td>\n",
              "      <td>0</td>\n",
              "    </tr>\n",
              "    <tr>\n",
              "      <th>1</th>\n",
              "      <td>26</td>\n",
              "      <td>89</td>\n",
              "      <td>87</td>\n",
              "      <td>56</td>\n",
              "      <td>1</td>\n",
              "      <td>0</td>\n",
              "    </tr>\n",
              "    <tr>\n",
              "      <th>2</th>\n",
              "      <td>27</td>\n",
              "      <td>68</td>\n",
              "      <td>69</td>\n",
              "      <td>55</td>\n",
              "      <td>1</td>\n",
              "      <td>0</td>\n",
              "    </tr>\n",
              "    <tr>\n",
              "      <th>3</th>\n",
              "      <td>28</td>\n",
              "      <td>36</td>\n",
              "      <td>50</td>\n",
              "      <td>80</td>\n",
              "      <td>1</td>\n",
              "      <td>0</td>\n",
              "    </tr>\n",
              "    <tr>\n",
              "      <th>4</th>\n",
              "      <td>29</td>\n",
              "      <td>71</td>\n",
              "      <td>72</td>\n",
              "      <td>50</td>\n",
              "      <td>1</td>\n",
              "      <td>0</td>\n",
              "    </tr>\n",
              "  </tbody>\n",
              "</table>\n",
              "</div>\n",
              "      <button class=\"colab-df-convert\" onclick=\"convertToInteractive('df-9aa54e83-984e-476c-a517-f7690b7f8136')\"\n",
              "              title=\"Convert this dataframe to an interactive table.\"\n",
              "              style=\"display:none;\">\n",
              "        \n",
              "  <svg xmlns=\"http://www.w3.org/2000/svg\" height=\"24px\"viewBox=\"0 0 24 24\"\n",
              "       width=\"24px\">\n",
              "    <path d=\"M0 0h24v24H0V0z\" fill=\"none\"/>\n",
              "    <path d=\"M18.56 5.44l.94 2.06.94-2.06 2.06-.94-2.06-.94-.94-2.06-.94 2.06-2.06.94zm-11 1L8.5 8.5l.94-2.06 2.06-.94-2.06-.94L8.5 2.5l-.94 2.06-2.06.94zm10 10l.94 2.06.94-2.06 2.06-.94-2.06-.94-.94-2.06-.94 2.06-2.06.94z\"/><path d=\"M17.41 7.96l-1.37-1.37c-.4-.4-.92-.59-1.43-.59-.52 0-1.04.2-1.43.59L10.3 9.45l-7.72 7.72c-.78.78-.78 2.05 0 2.83L4 21.41c.39.39.9.59 1.41.59.51 0 1.02-.2 1.41-.59l7.78-7.78 2.81-2.81c.8-.78.8-2.07 0-2.86zM5.41 20L4 18.59l7.72-7.72 1.47 1.35L5.41 20z\"/>\n",
              "  </svg>\n",
              "      </button>\n",
              "      \n",
              "  <style>\n",
              "    .colab-df-container {\n",
              "      display:flex;\n",
              "      flex-wrap:wrap;\n",
              "      gap: 12px;\n",
              "    }\n",
              "\n",
              "    .colab-df-convert {\n",
              "      background-color: #E8F0FE;\n",
              "      border: none;\n",
              "      border-radius: 50%;\n",
              "      cursor: pointer;\n",
              "      display: none;\n",
              "      fill: #1967D2;\n",
              "      height: 32px;\n",
              "      padding: 0 0 0 0;\n",
              "      width: 32px;\n",
              "    }\n",
              "\n",
              "    .colab-df-convert:hover {\n",
              "      background-color: #E2EBFA;\n",
              "      box-shadow: 0px 1px 2px rgba(60, 64, 67, 0.3), 0px 1px 3px 1px rgba(60, 64, 67, 0.15);\n",
              "      fill: #174EA6;\n",
              "    }\n",
              "\n",
              "    [theme=dark] .colab-df-convert {\n",
              "      background-color: #3B4455;\n",
              "      fill: #D2E3FC;\n",
              "    }\n",
              "\n",
              "    [theme=dark] .colab-df-convert:hover {\n",
              "      background-color: #434B5C;\n",
              "      box-shadow: 0px 1px 3px 1px rgba(0, 0, 0, 0.15);\n",
              "      filter: drop-shadow(0px 1px 2px rgba(0, 0, 0, 0.3));\n",
              "      fill: #FFFFFF;\n",
              "    }\n",
              "  </style>\n",
              "\n",
              "      <script>\n",
              "        const buttonEl =\n",
              "          document.querySelector('#df-9aa54e83-984e-476c-a517-f7690b7f8136 button.colab-df-convert');\n",
              "        buttonEl.style.display =\n",
              "          google.colab.kernel.accessAllowed ? 'block' : 'none';\n",
              "\n",
              "        async function convertToInteractive(key) {\n",
              "          const element = document.querySelector('#df-9aa54e83-984e-476c-a517-f7690b7f8136');\n",
              "          const dataTable =\n",
              "            await google.colab.kernel.invokeFunction('convertToInteractive',\n",
              "                                                     [key], {});\n",
              "          if (!dataTable) return;\n",
              "\n",
              "          const docLinkHtml = 'Like what you see? Visit the ' +\n",
              "            '<a target=\"_blank\" href=https://colab.research.google.com/notebooks/data_table.ipynb>data table notebook</a>'\n",
              "            + ' to learn more about interactive tables.';\n",
              "          element.innerHTML = '';\n",
              "          dataTable['output_type'] = 'display_data';\n",
              "          await google.colab.output.renderOutput(dataTable, element);\n",
              "          const docLink = document.createElement('div');\n",
              "          docLink.innerHTML = docLinkHtml;\n",
              "          element.appendChild(docLink);\n",
              "        }\n",
              "      </script>\n",
              "    </div>\n",
              "  </div>\n",
              "  "
            ],
            "text/plain": [
              "   Referencia  NumAmostra  Area  Delta  Output1  Output2\n",
              "0          25          69    81     68        1        0\n",
              "1          26          89    87     56        1        0\n",
              "2          27          68    69     55        1        0\n",
              "3          28          36    50     80        1        0\n",
              "4          29          71    72     50        1        0"
            ]
          },
          "metadata": {},
          "execution_count": 6
        }
      ],
      "source": [
        "DataSet.head()"
      ]
    },
    {
      "cell_type": "code",
      "execution_count": 7,
      "metadata": {
        "colab": {
          "base_uri": "https://localhost:8080/",
          "height": 300
        },
        "id": "yzrGqNVxQdQK",
        "outputId": "42127962-9231-4f4f-ddd3-dea7392a6a70"
      },
      "outputs": [
        {
          "output_type": "execute_result",
          "data": {
            "text/html": [
              "\n",
              "  <div id=\"df-1d398bfb-5406-434a-b483-978f3060e4c9\">\n",
              "    <div class=\"colab-df-container\">\n",
              "      <div>\n",
              "<style scoped>\n",
              "    .dataframe tbody tr th:only-of-type {\n",
              "        vertical-align: middle;\n",
              "    }\n",
              "\n",
              "    .dataframe tbody tr th {\n",
              "        vertical-align: top;\n",
              "    }\n",
              "\n",
              "    .dataframe thead th {\n",
              "        text-align: right;\n",
              "    }\n",
              "</style>\n",
              "<table border=\"1\" class=\"dataframe\">\n",
              "  <thead>\n",
              "    <tr style=\"text-align: right;\">\n",
              "      <th></th>\n",
              "      <th>Referencia</th>\n",
              "      <th>NumAmostra</th>\n",
              "      <th>Area</th>\n",
              "      <th>Delta</th>\n",
              "      <th>Output1</th>\n",
              "      <th>Output2</th>\n",
              "    </tr>\n",
              "  </thead>\n",
              "  <tbody>\n",
              "    <tr>\n",
              "      <th>count</th>\n",
              "      <td>261.000000</td>\n",
              "      <td>261.000000</td>\n",
              "      <td>261.000000</td>\n",
              "      <td>261.000000</td>\n",
              "      <td>261.000000</td>\n",
              "      <td>261.000000</td>\n",
              "    </tr>\n",
              "    <tr>\n",
              "      <th>mean</th>\n",
              "      <td>58.310345</td>\n",
              "      <td>59.777778</td>\n",
              "      <td>63.697318</td>\n",
              "      <td>54.747126</td>\n",
              "      <td>0.375479</td>\n",
              "      <td>0.624521</td>\n",
              "    </tr>\n",
              "    <tr>\n",
              "      <th>std</th>\n",
              "      <td>9.199888</td>\n",
              "      <td>17.293075</td>\n",
              "      <td>30.629366</td>\n",
              "      <td>35.548413</td>\n",
              "      <td>0.485177</td>\n",
              "      <td>0.485177</td>\n",
              "    </tr>\n",
              "    <tr>\n",
              "      <th>min</th>\n",
              "      <td>25.000000</td>\n",
              "      <td>3.000000</td>\n",
              "      <td>6.000000</td>\n",
              "      <td>17.000000</td>\n",
              "      <td>0.000000</td>\n",
              "      <td>0.000000</td>\n",
              "    </tr>\n",
              "    <tr>\n",
              "      <th>25%</th>\n",
              "      <td>54.000000</td>\n",
              "      <td>50.000000</td>\n",
              "      <td>46.000000</td>\n",
              "      <td>38.000000</td>\n",
              "      <td>0.000000</td>\n",
              "      <td>0.000000</td>\n",
              "    </tr>\n",
              "    <tr>\n",
              "      <th>50%</th>\n",
              "      <td>64.000000</td>\n",
              "      <td>59.000000</td>\n",
              "      <td>56.000000</td>\n",
              "      <td>44.000000</td>\n",
              "      <td>0.000000</td>\n",
              "      <td>1.000000</td>\n",
              "    </tr>\n",
              "    <tr>\n",
              "      <th>75%</th>\n",
              "      <td>64.000000</td>\n",
              "      <td>69.000000</td>\n",
              "      <td>68.000000</td>\n",
              "      <td>54.000000</td>\n",
              "      <td>1.000000</td>\n",
              "      <td>1.000000</td>\n",
              "    </tr>\n",
              "    <tr>\n",
              "      <th>max</th>\n",
              "      <td>64.000000</td>\n",
              "      <td>120.000000</td>\n",
              "      <td>201.000000</td>\n",
              "      <td>251.000000</td>\n",
              "      <td>1.000000</td>\n",
              "      <td>1.000000</td>\n",
              "    </tr>\n",
              "  </tbody>\n",
              "</table>\n",
              "</div>\n",
              "      <button class=\"colab-df-convert\" onclick=\"convertToInteractive('df-1d398bfb-5406-434a-b483-978f3060e4c9')\"\n",
              "              title=\"Convert this dataframe to an interactive table.\"\n",
              "              style=\"display:none;\">\n",
              "        \n",
              "  <svg xmlns=\"http://www.w3.org/2000/svg\" height=\"24px\"viewBox=\"0 0 24 24\"\n",
              "       width=\"24px\">\n",
              "    <path d=\"M0 0h24v24H0V0z\" fill=\"none\"/>\n",
              "    <path d=\"M18.56 5.44l.94 2.06.94-2.06 2.06-.94-2.06-.94-.94-2.06-.94 2.06-2.06.94zm-11 1L8.5 8.5l.94-2.06 2.06-.94-2.06-.94L8.5 2.5l-.94 2.06-2.06.94zm10 10l.94 2.06.94-2.06 2.06-.94-2.06-.94-.94-2.06-.94 2.06-2.06.94z\"/><path d=\"M17.41 7.96l-1.37-1.37c-.4-.4-.92-.59-1.43-.59-.52 0-1.04.2-1.43.59L10.3 9.45l-7.72 7.72c-.78.78-.78 2.05 0 2.83L4 21.41c.39.39.9.59 1.41.59.51 0 1.02-.2 1.41-.59l7.78-7.78 2.81-2.81c.8-.78.8-2.07 0-2.86zM5.41 20L4 18.59l7.72-7.72 1.47 1.35L5.41 20z\"/>\n",
              "  </svg>\n",
              "      </button>\n",
              "      \n",
              "  <style>\n",
              "    .colab-df-container {\n",
              "      display:flex;\n",
              "      flex-wrap:wrap;\n",
              "      gap: 12px;\n",
              "    }\n",
              "\n",
              "    .colab-df-convert {\n",
              "      background-color: #E8F0FE;\n",
              "      border: none;\n",
              "      border-radius: 50%;\n",
              "      cursor: pointer;\n",
              "      display: none;\n",
              "      fill: #1967D2;\n",
              "      height: 32px;\n",
              "      padding: 0 0 0 0;\n",
              "      width: 32px;\n",
              "    }\n",
              "\n",
              "    .colab-df-convert:hover {\n",
              "      background-color: #E2EBFA;\n",
              "      box-shadow: 0px 1px 2px rgba(60, 64, 67, 0.3), 0px 1px 3px 1px rgba(60, 64, 67, 0.15);\n",
              "      fill: #174EA6;\n",
              "    }\n",
              "\n",
              "    [theme=dark] .colab-df-convert {\n",
              "      background-color: #3B4455;\n",
              "      fill: #D2E3FC;\n",
              "    }\n",
              "\n",
              "    [theme=dark] .colab-df-convert:hover {\n",
              "      background-color: #434B5C;\n",
              "      box-shadow: 0px 1px 3px 1px rgba(0, 0, 0, 0.15);\n",
              "      filter: drop-shadow(0px 1px 2px rgba(0, 0, 0, 0.3));\n",
              "      fill: #FFFFFF;\n",
              "    }\n",
              "  </style>\n",
              "\n",
              "      <script>\n",
              "        const buttonEl =\n",
              "          document.querySelector('#df-1d398bfb-5406-434a-b483-978f3060e4c9 button.colab-df-convert');\n",
              "        buttonEl.style.display =\n",
              "          google.colab.kernel.accessAllowed ? 'block' : 'none';\n",
              "\n",
              "        async function convertToInteractive(key) {\n",
              "          const element = document.querySelector('#df-1d398bfb-5406-434a-b483-978f3060e4c9');\n",
              "          const dataTable =\n",
              "            await google.colab.kernel.invokeFunction('convertToInteractive',\n",
              "                                                     [key], {});\n",
              "          if (!dataTable) return;\n",
              "\n",
              "          const docLinkHtml = 'Like what you see? Visit the ' +\n",
              "            '<a target=\"_blank\" href=https://colab.research.google.com/notebooks/data_table.ipynb>data table notebook</a>'\n",
              "            + ' to learn more about interactive tables.';\n",
              "          element.innerHTML = '';\n",
              "          dataTable['output_type'] = 'display_data';\n",
              "          await google.colab.output.renderOutput(dataTable, element);\n",
              "          const docLink = document.createElement('div');\n",
              "          docLink.innerHTML = docLinkHtml;\n",
              "          element.appendChild(docLink);\n",
              "        }\n",
              "      </script>\n",
              "    </div>\n",
              "  </div>\n",
              "  "
            ],
            "text/plain": [
              "       Referencia  NumAmostra        Area       Delta     Output1     Output2\n",
              "count  261.000000  261.000000  261.000000  261.000000  261.000000  261.000000\n",
              "mean    58.310345   59.777778   63.697318   54.747126    0.375479    0.624521\n",
              "std      9.199888   17.293075   30.629366   35.548413    0.485177    0.485177\n",
              "min     25.000000    3.000000    6.000000   17.000000    0.000000    0.000000\n",
              "25%     54.000000   50.000000   46.000000   38.000000    0.000000    0.000000\n",
              "50%     64.000000   59.000000   56.000000   44.000000    0.000000    1.000000\n",
              "75%     64.000000   69.000000   68.000000   54.000000    1.000000    1.000000\n",
              "max     64.000000  120.000000  201.000000  251.000000    1.000000    1.000000"
            ]
          },
          "metadata": {},
          "execution_count": 7
        }
      ],
      "source": [
        "DataSet.describe()"
      ]
    },
    {
      "cell_type": "code",
      "execution_count": 8,
      "metadata": {
        "colab": {
          "base_uri": "https://localhost:8080/",
          "height": 423
        },
        "id": "zeqYZoIK_w4P",
        "outputId": "8936b38a-68a2-42a6-ddde-7a3cf240abb7"
      },
      "outputs": [
        {
          "output_type": "execute_result",
          "data": {
            "text/html": [
              "\n",
              "  <div id=\"df-2edc9a06-3b1f-48ad-b0eb-9d1ec110aae3\">\n",
              "    <div class=\"colab-df-container\">\n",
              "      <div>\n",
              "<style scoped>\n",
              "    .dataframe tbody tr th:only-of-type {\n",
              "        vertical-align: middle;\n",
              "    }\n",
              "\n",
              "    .dataframe tbody tr th {\n",
              "        vertical-align: top;\n",
              "    }\n",
              "\n",
              "    .dataframe thead th {\n",
              "        text-align: right;\n",
              "    }\n",
              "</style>\n",
              "<table border=\"1\" class=\"dataframe\">\n",
              "  <thead>\n",
              "    <tr style=\"text-align: right;\">\n",
              "      <th></th>\n",
              "      <th>Referencia</th>\n",
              "      <th>NumAmostra</th>\n",
              "      <th>Area</th>\n",
              "      <th>Delta</th>\n",
              "      <th>Output1</th>\n",
              "      <th>Output2</th>\n",
              "    </tr>\n",
              "  </thead>\n",
              "  <tbody>\n",
              "    <tr>\n",
              "      <th>0</th>\n",
              "      <td>25</td>\n",
              "      <td>69</td>\n",
              "      <td>81</td>\n",
              "      <td>68</td>\n",
              "      <td>1</td>\n",
              "      <td>0</td>\n",
              "    </tr>\n",
              "    <tr>\n",
              "      <th>1</th>\n",
              "      <td>26</td>\n",
              "      <td>89</td>\n",
              "      <td>87</td>\n",
              "      <td>56</td>\n",
              "      <td>1</td>\n",
              "      <td>0</td>\n",
              "    </tr>\n",
              "    <tr>\n",
              "      <th>2</th>\n",
              "      <td>27</td>\n",
              "      <td>68</td>\n",
              "      <td>69</td>\n",
              "      <td>55</td>\n",
              "      <td>1</td>\n",
              "      <td>0</td>\n",
              "    </tr>\n",
              "    <tr>\n",
              "      <th>3</th>\n",
              "      <td>28</td>\n",
              "      <td>36</td>\n",
              "      <td>50</td>\n",
              "      <td>80</td>\n",
              "      <td>1</td>\n",
              "      <td>0</td>\n",
              "    </tr>\n",
              "    <tr>\n",
              "      <th>4</th>\n",
              "      <td>29</td>\n",
              "      <td>71</td>\n",
              "      <td>72</td>\n",
              "      <td>50</td>\n",
              "      <td>1</td>\n",
              "      <td>0</td>\n",
              "    </tr>\n",
              "    <tr>\n",
              "      <th>...</th>\n",
              "      <td>...</td>\n",
              "      <td>...</td>\n",
              "      <td>...</td>\n",
              "      <td>...</td>\n",
              "      <td>...</td>\n",
              "      <td>...</td>\n",
              "    </tr>\n",
              "    <tr>\n",
              "      <th>256</th>\n",
              "      <td>64</td>\n",
              "      <td>75</td>\n",
              "      <td>82</td>\n",
              "      <td>54</td>\n",
              "      <td>0</td>\n",
              "      <td>1</td>\n",
              "    </tr>\n",
              "    <tr>\n",
              "      <th>257</th>\n",
              "      <td>64</td>\n",
              "      <td>22</td>\n",
              "      <td>14</td>\n",
              "      <td>25</td>\n",
              "      <td>0</td>\n",
              "      <td>1</td>\n",
              "    </tr>\n",
              "    <tr>\n",
              "      <th>258</th>\n",
              "      <td>44</td>\n",
              "      <td>33</td>\n",
              "      <td>32</td>\n",
              "      <td>38</td>\n",
              "      <td>0</td>\n",
              "      <td>1</td>\n",
              "    </tr>\n",
              "    <tr>\n",
              "      <th>259</th>\n",
              "      <td>64</td>\n",
              "      <td>45</td>\n",
              "      <td>36</td>\n",
              "      <td>32</td>\n",
              "      <td>0</td>\n",
              "      <td>1</td>\n",
              "    </tr>\n",
              "    <tr>\n",
              "      <th>260</th>\n",
              "      <td>64</td>\n",
              "      <td>45</td>\n",
              "      <td>41</td>\n",
              "      <td>42</td>\n",
              "      <td>0</td>\n",
              "      <td>1</td>\n",
              "    </tr>\n",
              "  </tbody>\n",
              "</table>\n",
              "<p>261 rows × 6 columns</p>\n",
              "</div>\n",
              "      <button class=\"colab-df-convert\" onclick=\"convertToInteractive('df-2edc9a06-3b1f-48ad-b0eb-9d1ec110aae3')\"\n",
              "              title=\"Convert this dataframe to an interactive table.\"\n",
              "              style=\"display:none;\">\n",
              "        \n",
              "  <svg xmlns=\"http://www.w3.org/2000/svg\" height=\"24px\"viewBox=\"0 0 24 24\"\n",
              "       width=\"24px\">\n",
              "    <path d=\"M0 0h24v24H0V0z\" fill=\"none\"/>\n",
              "    <path d=\"M18.56 5.44l.94 2.06.94-2.06 2.06-.94-2.06-.94-.94-2.06-.94 2.06-2.06.94zm-11 1L8.5 8.5l.94-2.06 2.06-.94-2.06-.94L8.5 2.5l-.94 2.06-2.06.94zm10 10l.94 2.06.94-2.06 2.06-.94-2.06-.94-.94-2.06-.94 2.06-2.06.94z\"/><path d=\"M17.41 7.96l-1.37-1.37c-.4-.4-.92-.59-1.43-.59-.52 0-1.04.2-1.43.59L10.3 9.45l-7.72 7.72c-.78.78-.78 2.05 0 2.83L4 21.41c.39.39.9.59 1.41.59.51 0 1.02-.2 1.41-.59l7.78-7.78 2.81-2.81c.8-.78.8-2.07 0-2.86zM5.41 20L4 18.59l7.72-7.72 1.47 1.35L5.41 20z\"/>\n",
              "  </svg>\n",
              "      </button>\n",
              "      \n",
              "  <style>\n",
              "    .colab-df-container {\n",
              "      display:flex;\n",
              "      flex-wrap:wrap;\n",
              "      gap: 12px;\n",
              "    }\n",
              "\n",
              "    .colab-df-convert {\n",
              "      background-color: #E8F0FE;\n",
              "      border: none;\n",
              "      border-radius: 50%;\n",
              "      cursor: pointer;\n",
              "      display: none;\n",
              "      fill: #1967D2;\n",
              "      height: 32px;\n",
              "      padding: 0 0 0 0;\n",
              "      width: 32px;\n",
              "    }\n",
              "\n",
              "    .colab-df-convert:hover {\n",
              "      background-color: #E2EBFA;\n",
              "      box-shadow: 0px 1px 2px rgba(60, 64, 67, 0.3), 0px 1px 3px 1px rgba(60, 64, 67, 0.15);\n",
              "      fill: #174EA6;\n",
              "    }\n",
              "\n",
              "    [theme=dark] .colab-df-convert {\n",
              "      background-color: #3B4455;\n",
              "      fill: #D2E3FC;\n",
              "    }\n",
              "\n",
              "    [theme=dark] .colab-df-convert:hover {\n",
              "      background-color: #434B5C;\n",
              "      box-shadow: 0px 1px 3px 1px rgba(0, 0, 0, 0.15);\n",
              "      filter: drop-shadow(0px 1px 2px rgba(0, 0, 0, 0.3));\n",
              "      fill: #FFFFFF;\n",
              "    }\n",
              "  </style>\n",
              "\n",
              "      <script>\n",
              "        const buttonEl =\n",
              "          document.querySelector('#df-2edc9a06-3b1f-48ad-b0eb-9d1ec110aae3 button.colab-df-convert');\n",
              "        buttonEl.style.display =\n",
              "          google.colab.kernel.accessAllowed ? 'block' : 'none';\n",
              "\n",
              "        async function convertToInteractive(key) {\n",
              "          const element = document.querySelector('#df-2edc9a06-3b1f-48ad-b0eb-9d1ec110aae3');\n",
              "          const dataTable =\n",
              "            await google.colab.kernel.invokeFunction('convertToInteractive',\n",
              "                                                     [key], {});\n",
              "          if (!dataTable) return;\n",
              "\n",
              "          const docLinkHtml = 'Like what you see? Visit the ' +\n",
              "            '<a target=\"_blank\" href=https://colab.research.google.com/notebooks/data_table.ipynb>data table notebook</a>'\n",
              "            + ' to learn more about interactive tables.';\n",
              "          element.innerHTML = '';\n",
              "          dataTable['output_type'] = 'display_data';\n",
              "          await google.colab.output.renderOutput(dataTable, element);\n",
              "          const docLink = document.createElement('div');\n",
              "          docLink.innerHTML = docLinkHtml;\n",
              "          element.appendChild(docLink);\n",
              "        }\n",
              "      </script>\n",
              "    </div>\n",
              "  </div>\n",
              "  "
            ],
            "text/plain": [
              "     Referencia  NumAmostra  Area  Delta  Output1  Output2\n",
              "0            25          69    81     68        1        0\n",
              "1            26          89    87     56        1        0\n",
              "2            27          68    69     55        1        0\n",
              "3            28          36    50     80        1        0\n",
              "4            29          71    72     50        1        0\n",
              "..          ...         ...   ...    ...      ...      ...\n",
              "256          64          75    82     54        0        1\n",
              "257          64          22    14     25        0        1\n",
              "258          44          33    32     38        0        1\n",
              "259          64          45    36     32        0        1\n",
              "260          64          45    41     42        0        1\n",
              "\n",
              "[261 rows x 6 columns]"
            ]
          },
          "metadata": {},
          "execution_count": 8
        }
      ],
      "source": [
        "DataSet"
      ]
    },
    {
      "cell_type": "markdown",
      "metadata": {
        "id": "AuAYqelrQdQL"
      },
      "source": [
        "### Váriaveis do *Dataset*"
      ]
    },
    {
      "cell_type": "code",
      "execution_count": 9,
      "metadata": {
        "colab": {
          "base_uri": "https://localhost:8080/"
        },
        "id": "PdZYGemRQdQM",
        "outputId": "376c23ca-7411-4b5f-d0d9-24a35996d5cf"
      },
      "outputs": [
        {
          "output_type": "execute_result",
          "data": {
            "text/plain": [
              "Index(['Referencia', 'NumAmostra', 'Area', 'Delta', 'Output1', 'Output2'], dtype='object')"
            ]
          },
          "metadata": {},
          "execution_count": 9
        }
      ],
      "source": [
        "DataSet.columns"
      ]
    },
    {
      "cell_type": "markdown",
      "metadata": {
        "id": "_dSyOKaMQdQN"
      },
      "source": [
        "### Número de Peças\n",
        "\n",
        "#### Vamos classificar os grupos pelo número de peças: \n",
        "1. Grupo com uma peça\n",
        "2. Grupo com duas peças"
      ]
    },
    {
      "cell_type": "code",
      "execution_count": 10,
      "metadata": {
        "colab": {
          "base_uri": "https://localhost:8080/",
          "height": 279
        },
        "id": "GJnqzJcaQdQO",
        "outputId": "e0073e5c-cc37-4b74-c7c0-2b06f15000e6"
      },
      "outputs": [
        {
          "output_type": "display_data",
          "data": {
            "image/png": "[encoded data removed]",
            "text/plain": [
              "<Figure size 432x288 with 1 Axes>"
            ]
          },
          "metadata": {}
        }
      ],
      "source": [
        "sns.set_style('whitegrid')\n",
        "sns.countplot(x='Output2',data=DataSet,palette='RdBu_r')\n",
        "plt.show()"
      ]
    },
    {
      "cell_type": "markdown",
      "metadata": {
        "id": "F3Tc_vI4QdQO"
      },
      "source": [
        "#### Gráfico da distribuição das áreas das peças"
      ]
    },
    {
      "cell_type": "code",
      "execution_count": 11,
      "metadata": {
        "colab": {
          "base_uri": "https://localhost:8080/",
          "height": 334
        },
        "id": "SjAhhQwYQdQO",
        "outputId": "f21abeb2-dfe4-4d3b-f302-8e27487c8898"
      },
      "outputs": [
        {
          "output_type": "stream",
          "name": "stderr",
          "text": [
            "/usr/local/lib/python3.7/dist-packages/seaborn/distributions.py:2619: FutureWarning: `distplot` is a deprecated function and will be removed in a future version. Please adapt your code to use either `displot` (a figure-level function with similar flexibility) or `histplot` (an axes-level function for histograms).\n",
            "  warnings.warn(msg, FutureWarning)\n"
          ]
        },
        {
          "output_type": "display_data",
          "data": {
            "image/png": "[encoded data removed]",
            "text/plain": [
              "<Figure size 432x288 with 1 Axes>"
            ]
          },
          "metadata": {}
        }
      ],
      "source": [
        "sns.distplot(DataSet['Area'].dropna(),kde=False,color='darkred',bins=30)\n",
        "plt.show()"
      ]
    },
    {
      "cell_type": "code",
      "execution_count": 12,
      "metadata": {
        "colab": {
          "base_uri": "https://localhost:8080/",
          "height": 279
        },
        "id": "N3vJHGUFQdQP",
        "outputId": "2c92900f-1612-4140-eb9f-cf84e5b0eece"
      },
      "outputs": [
        {
          "output_type": "display_data",
          "data": {
            "image/png": "[encoded data removed]",
            "text/plain": [
              "<Figure size 432x288 with 1 Axes>"
            ]
          },
          "metadata": {}
        }
      ],
      "source": [
        "sns.set_style('whitegrid')\n",
        "sns.countplot(x='Area',hue='Output2',data=DataSet,palette='rainbow')\n",
        "plt.show()"
      ]
    },
    {
      "cell_type": "code",
      "execution_count": 13,
      "metadata": {
        "colab": {
          "base_uri": "https://localhost:8080/",
          "height": 279
        },
        "id": "zL3avh87QdQP",
        "outputId": "a1c5dcc1-1e3d-4e0d-f0d5-2de4419fbea4"
      },
      "outputs": [
        {
          "output_type": "display_data",
          "data": {
            "image/png": "[encoded data removed]",
            "text/plain": [
              "<Figure size 432x288 with 1 Axes>"
            ]
          },
          "metadata": {}
        }
      ],
      "source": [
        "sns.set_style('whitegrid')\n",
        "sns.countplot(x='NumAmostra',hue='Output2',data=DataSet,palette='rainbow')\n",
        "plt.show()"
      ]
    },
    {
      "cell_type": "code",
      "execution_count": 14,
      "metadata": {
        "colab": {
          "base_uri": "https://localhost:8080/",
          "height": 279
        },
        "id": "pGi0dGDcQdQQ",
        "outputId": "738a70cc-a737-4f9b-a3b8-90a076a5a904"
      },
      "outputs": [
        {
          "output_type": "display_data",
          "data": {
            "image/png": "[encoded data removed]",
            "text/plain": [
              "<Figure size 432x288 with 1 Axes>"
            ]
          },
          "metadata": {}
        }
      ],
      "source": [
        "sns.set_style('whitegrid')\n",
        "sns.countplot(x='Delta',hue='Output1',data=DataSet,palette='rainbow')\n",
        "plt.show()"
      ]
    },
    {
      "cell_type": "markdown",
      "metadata": {
        "id": "Xv5UeXXIQdQR"
      },
      "source": [
        "## As variáveis preditoras e a variável de resposta\n",
        "\n",
        "Para treinar o modelo de regressão, primeiro precisaremos dividir nossos dados em uma matriz **X** que contenha os dados das variáveis preditoras e uma matriz **y** com os dados da variável de destino.\n",
        "\n",
        "### Matrizes X e y"
      ]
    },
    {
      "cell_type": "code",
      "execution_count": 15,
      "metadata": {
        "id": "ITHAtf_xQdQR"
      },
      "outputs": [],
      "source": [
        "#X = DataSet[[ 'NumAmostra', 'Area', 'Delta']]\n",
        "#y = DataSet[['Output1','Output2']]"
      ]
    },
    {
      "cell_type": "markdown",
      "metadata": {
        "id": "R37hg2cRQdQS"
      },
      "source": [
        "### Relação entre as variáveis preditoras\n",
        "\n",
        "####  Algumas questões importantes\n",
        "1. Pelo menos um dos preditores ***x1, x2, ... ,x5***  é útil na previsão da resposta?\n",
        "2. Todos os preditores ajudam a explicar **y**, ou apenas um subconjunto dos preditores?\n",
        "3. Quão bem o modelo se ajusta aos dados?\n",
        "4. Dado um conjunto de valores de previsão, quais valores de resposta devemos prever e quais as métricas indicam um bom modelo de previsão?\n",
        "\n",
        "**Gráficos simples de dispersão**\n",
        "\n",
        "Pelos gráficos abaixo percebemos ... nossa variável de resposta"
      ]
    },
    {
      "cell_type": "code",
      "execution_count": 16,
      "metadata": {
        "colab": {
          "base_uri": "https://localhost:8080/",
          "height": 0
        },
        "id": "eP_ksD08QdQS",
        "outputId": "65d0345e-d2a9-462b-d610-8d29e1cdd6c0"
      },
      "outputs": [
        {
          "output_type": "display_data",
          "data": {
            "image/png": "[encoded data removed]",
            "text/plain": [
              "<Figure size 1080x1080 with 42 Axes>"
            ]
          },
          "metadata": {}
        }
      ],
      "source": [
        "sns.pairplot(DataSet)\n",
        "plt.show()"
      ]
    },
    {
      "cell_type": "markdown",
      "metadata": {
        "id": "M0YAsFvtQdQT"
      },
      "source": [
        "**Mapa de Calor**\n",
        "\n",
        "O gráfico abaixo mostra através de uma escala de cores a correlação entre as variáveis do *Dataset*. Se observarmos as cores deste gráfico, a variável preditora **'Area'** possui maior correlação com a variável de resposta **'Output'** e a variável **'NumAmostra'** a menor."
      ]
    },
    {
      "cell_type": "code",
      "execution_count": 17,
      "metadata": {
        "colab": {
          "base_uri": "https://localhost:8080/",
          "height": 0
        },
        "id": "4k4Fmq__QdQT",
        "outputId": "e04189d5-025d-4798-c352-4d266f173dc8"
      },
      "outputs": [
        {
          "output_type": "display_data",
          "data": {
            "image/png": "[encoded data removed]",
            "text/plain": [
              "<Figure size 432x288 with 2 Axes>"
            ]
          },
          "metadata": {}
        }
      ],
      "source": [
        "sns.heatmap(DataSet.corr(), annot = True,cmap='Blues', fmt='.2g')\n",
        "plt.show()"
      ]
    },
    {
      "cell_type": "markdown",
      "metadata": {
        "id": "yPMbB3y0K03X"
      },
      "source": [
        "## *TENTATIVA* Removendo outliers com Z score. Tentativa que não mostrou bons resultados. Acredito que devido a pouca quantidade de dados."
      ]
    },
    {
      "cell_type": "code",
      "execution_count": 18,
      "metadata": {
        "id": "5bgqzVHGiHjE"
      },
      "outputs": [],
      "source": [
        "DataSet['DeltaZscore'] = (DataSet['Delta'] - DataSet['Delta'].mean()) / DataSet['Delta'].std(ddof=0)"
      ]
    },
    {
      "cell_type": "code",
      "execution_count": 19,
      "metadata": {
        "id": "gKUE9CciibNM"
      },
      "outputs": [],
      "source": [
        "DataSet['AreaZscore'] = (DataSet['Area'] - DataSet['Area'].mean()) / DataSet['Area'].std(ddof=0)"
      ]
    },
    {
      "cell_type": "code",
      "execution_count": 20,
      "metadata": {
        "id": "5NEC2YAjigd0"
      },
      "outputs": [],
      "source": [
        "AreaOut = DataSet[ (abs(DataSet['DeltaZscore']) > 3)]\n",
        "DeltaOut = DataSet[ (abs(DataSet['AreaZscore']) > 3)]\n",
        "#DataSet = DataSet[ (abs(DataSet['DeltaZscore']) < 3)]\n",
        "#DataSet = DataSet[ (abs(DataSet['AreaZscore']) < 3)]"
      ]
    },
    {
      "cell_type": "code",
      "execution_count": 21,
      "metadata": {
        "colab": {
          "base_uri": "https://localhost:8080/",
          "height": 206
        },
        "id": "Xv3Tgdizi2cu",
        "outputId": "80df6c1c-b684-426e-d6c0-ef2d3fc53fd0"
      },
      "outputs": [
        {
          "output_type": "execute_result",
          "data": {
            "text/html": [
              "\n",
              "  <div id=\"df-3485ceda-bbeb-4030-94a5-18d4a5d5d05d\">\n",
              "    <div class=\"colab-df-container\">\n",
              "      <div>\n",
              "<style scoped>\n",
              "    .dataframe tbody tr th:only-of-type {\n",
              "        vertical-align: middle;\n",
              "    }\n",
              "\n",
              "    .dataframe tbody tr th {\n",
              "        vertical-align: top;\n",
              "    }\n",
              "\n",
              "    .dataframe thead th {\n",
              "        text-align: right;\n",
              "    }\n",
              "</style>\n",
              "<table border=\"1\" class=\"dataframe\">\n",
              "  <thead>\n",
              "    <tr style=\"text-align: right;\">\n",
              "      <th></th>\n",
              "      <th>Referencia</th>\n",
              "      <th>NumAmostra</th>\n",
              "      <th>Area</th>\n",
              "      <th>Delta</th>\n",
              "      <th>Output1</th>\n",
              "      <th>Output2</th>\n",
              "      <th>DeltaZscore</th>\n",
              "      <th>AreaZscore</th>\n",
              "    </tr>\n",
              "  </thead>\n",
              "  <tbody>\n",
              "    <tr>\n",
              "      <th>125</th>\n",
              "      <td>64</td>\n",
              "      <td>70</td>\n",
              "      <td>183</td>\n",
              "      <td>237</td>\n",
              "      <td>0</td>\n",
              "      <td>1</td>\n",
              "      <td>5.136742</td>\n",
              "      <td>3.902526</td>\n",
              "    </tr>\n",
              "    <tr>\n",
              "      <th>136</th>\n",
              "      <td>64</td>\n",
              "      <td>68</td>\n",
              "      <td>72</td>\n",
              "      <td>199</td>\n",
              "      <td>0</td>\n",
              "      <td>1</td>\n",
              "      <td>4.065723</td>\n",
              "      <td>0.271590</td>\n",
              "    </tr>\n",
              "    <tr>\n",
              "      <th>140</th>\n",
              "      <td>64</td>\n",
              "      <td>53</td>\n",
              "      <td>85</td>\n",
              "      <td>251</td>\n",
              "      <td>0</td>\n",
              "      <td>1</td>\n",
              "      <td>5.531328</td>\n",
              "      <td>0.696835</td>\n",
              "    </tr>\n",
              "    <tr>\n",
              "      <th>154</th>\n",
              "      <td>64</td>\n",
              "      <td>61</td>\n",
              "      <td>123</td>\n",
              "      <td>175</td>\n",
              "      <td>0</td>\n",
              "      <td>1</td>\n",
              "      <td>3.389291</td>\n",
              "      <td>1.939858</td>\n",
              "    </tr>\n",
              "    <tr>\n",
              "      <th>166</th>\n",
              "      <td>64</td>\n",
              "      <td>62</td>\n",
              "      <td>124</td>\n",
              "      <td>166</td>\n",
              "      <td>0</td>\n",
              "      <td>1</td>\n",
              "      <td>3.135628</td>\n",
              "      <td>1.972569</td>\n",
              "    </tr>\n",
              "  </tbody>\n",
              "</table>\n",
              "</div>\n",
              "      <button class=\"colab-df-convert\" onclick=\"convertToInteractive('df-3485ceda-bbeb-4030-94a5-18d4a5d5d05d')\"\n",
              "              title=\"Convert this dataframe to an interactive table.\"\n",
              "              style=\"display:none;\">\n",
              "        \n",
              "  <svg xmlns=\"http://www.w3.org/2000/svg\" height=\"24px\"viewBox=\"0 0 24 24\"\n",
              "       width=\"24px\">\n",
              "    <path d=\"M0 0h24v24H0V0z\" fill=\"none\"/>\n",
              "    <path d=\"M18.56 5.44l.94 2.06.94-2.06 2.06-.94-2.06-.94-.94-2.06-.94 2.06-2.06.94zm-11 1L8.5 8.5l.94-2.06 2.06-.94-2.06-.94L8.5 2.5l-.94 2.06-2.06.94zm10 10l.94 2.06.94-2.06 2.06-.94-2.06-.94-.94-2.06-.94 2.06-2.06.94z\"/><path d=\"M17.41 7.96l-1.37-1.37c-.4-.4-.92-.59-1.43-.59-.52 0-1.04.2-1.43.59L10.3 9.45l-7.72 7.72c-.78.78-.78 2.05 0 2.83L4 21.41c.39.39.9.59 1.41.59.51 0 1.02-.2 1.41-.59l7.78-7.78 2.81-2.81c.8-.78.8-2.07 0-2.86zM5.41 20L4 18.59l7.72-7.72 1.47 1.35L5.41 20z\"/>\n",
              "  </svg>\n",
              "      </button>\n",
              "      \n",
              "  <style>\n",
              "    .colab-df-container {\n",
              "      display:flex;\n",
              "      flex-wrap:wrap;\n",
              "      gap: 12px;\n",
              "    }\n",
              "\n",
              "    .colab-df-convert {\n",
              "      background-color: #E8F0FE;\n",
              "      border: none;\n",
              "      border-radius: 50%;\n",
              "      cursor: pointer;\n",
              "      display: none;\n",
              "      fill: #1967D2;\n",
              "      height: 32px;\n",
              "      padding: 0 0 0 0;\n",
              "      width: 32px;\n",
              "    }\n",
              "\n",
              "    .colab-df-convert:hover {\n",
              "      background-color: #E2EBFA;\n",
              "      box-shadow: 0px 1px 2px rgba(60, 64, 67, 0.3), 0px 1px 3px 1px rgba(60, 64, 67, 0.15);\n",
              "      fill: #174EA6;\n",
              "    }\n",
              "\n",
              "    [theme=dark] .colab-df-convert {\n",
              "      background-color: #3B4455;\n",
              "      fill: #D2E3FC;\n",
              "    }\n",
              "\n",
              "    [theme=dark] .colab-df-convert:hover {\n",
              "      background-color: #434B5C;\n",
              "      box-shadow: 0px 1px 3px 1px rgba(0, 0, 0, 0.15);\n",
              "      filter: drop-shadow(0px 1px 2px rgba(0, 0, 0, 0.3));\n",
              "      fill: #FFFFFF;\n",
              "    }\n",
              "  </style>\n",
              "\n",
              "      <script>\n",
              "        const buttonEl =\n",
              "          document.querySelector('#df-3485ceda-bbeb-4030-94a5-18d4a5d5d05d button.colab-df-convert');\n",
              "        buttonEl.style.display =\n",
              "          google.colab.kernel.accessAllowed ? 'block' : 'none';\n",
              "\n",
              "        async function convertToInteractive(key) {\n",
              "          const element = document.querySelector('#df-3485ceda-bbeb-4030-94a5-18d4a5d5d05d');\n",
              "          const dataTable =\n",
              "            await google.colab.kernel.invokeFunction('convertToInteractive',\n",
              "                                                     [key], {});\n",
              "          if (!dataTable) return;\n",
              "\n",
              "          const docLinkHtml = 'Like what you see? Visit the ' +\n",
              "            '<a target=\"_blank\" href=https://colab.research.google.com/notebooks/data_table.ipynb>data table notebook</a>'\n",
              "            + ' to learn more about interactive tables.';\n",
              "          element.innerHTML = '';\n",
              "          dataTable['output_type'] = 'display_data';\n",
              "          await google.colab.output.renderOutput(dataTable, element);\n",
              "          const docLink = document.createElement('div');\n",
              "          docLink.innerHTML = docLinkHtml;\n",
              "          element.appendChild(docLink);\n",
              "        }\n",
              "      </script>\n",
              "    </div>\n",
              "  </div>\n",
              "  "
            ],
            "text/plain": [
              "     Referencia  NumAmostra  Area  ...  Output2  DeltaZscore  AreaZscore\n",
              "125          64          70   183  ...        1     5.136742    3.902526\n",
              "136          64          68    72  ...        1     4.065723    0.271590\n",
              "140          64          53    85  ...        1     5.531328    0.696835\n",
              "154          64          61   123  ...        1     3.389291    1.939858\n",
              "166          64          62   124  ...        1     3.135628    1.972569\n",
              "\n",
              "[5 rows x 8 columns]"
            ]
          },
          "metadata": {},
          "execution_count": 21
        }
      ],
      "source": [
        "AreaOut.head()"
      ]
    },
    {
      "cell_type": "code",
      "execution_count": 22,
      "metadata": {
        "colab": {
          "base_uri": "https://localhost:8080/",
          "height": 206
        },
        "id": "ouezQhfyi5u1",
        "outputId": "8b9c18db-9e9f-473d-f3dd-a7c1b757eb69"
      },
      "outputs": [
        {
          "output_type": "execute_result",
          "data": {
            "text/html": [
              "\n",
              "  <div id=\"df-69532925-2e12-4eb4-8ff7-b6afcf6210c1\">\n",
              "    <div class=\"colab-df-container\">\n",
              "      <div>\n",
              "<style scoped>\n",
              "    .dataframe tbody tr th:only-of-type {\n",
              "        vertical-align: middle;\n",
              "    }\n",
              "\n",
              "    .dataframe tbody tr th {\n",
              "        vertical-align: top;\n",
              "    }\n",
              "\n",
              "    .dataframe thead th {\n",
              "        text-align: right;\n",
              "    }\n",
              "</style>\n",
              "<table border=\"1\" class=\"dataframe\">\n",
              "  <thead>\n",
              "    <tr style=\"text-align: right;\">\n",
              "      <th></th>\n",
              "      <th>Referencia</th>\n",
              "      <th>NumAmostra</th>\n",
              "      <th>Area</th>\n",
              "      <th>Delta</th>\n",
              "      <th>Output1</th>\n",
              "      <th>Output2</th>\n",
              "      <th>DeltaZscore</th>\n",
              "      <th>AreaZscore</th>\n",
              "    </tr>\n",
              "  </thead>\n",
              "  <tbody>\n",
              "    <tr>\n",
              "      <th>125</th>\n",
              "      <td>64</td>\n",
              "      <td>70</td>\n",
              "      <td>183</td>\n",
              "      <td>237</td>\n",
              "      <td>0</td>\n",
              "      <td>1</td>\n",
              "      <td>5.136742</td>\n",
              "      <td>3.902526</td>\n",
              "    </tr>\n",
              "    <tr>\n",
              "      <th>144</th>\n",
              "      <td>64</td>\n",
              "      <td>59</td>\n",
              "      <td>166</td>\n",
              "      <td>144</td>\n",
              "      <td>0</td>\n",
              "      <td>1</td>\n",
              "      <td>2.515565</td>\n",
              "      <td>3.346437</td>\n",
              "    </tr>\n",
              "    <tr>\n",
              "      <th>162</th>\n",
              "      <td>64</td>\n",
              "      <td>64</td>\n",
              "      <td>167</td>\n",
              "      <td>155</td>\n",
              "      <td>0</td>\n",
              "      <td>1</td>\n",
              "      <td>2.825597</td>\n",
              "      <td>3.379148</td>\n",
              "    </tr>\n",
              "    <tr>\n",
              "      <th>190</th>\n",
              "      <td>64</td>\n",
              "      <td>60</td>\n",
              "      <td>173</td>\n",
              "      <td>159</td>\n",
              "      <td>0</td>\n",
              "      <td>1</td>\n",
              "      <td>2.938336</td>\n",
              "      <td>3.575415</td>\n",
              "    </tr>\n",
              "    <tr>\n",
              "      <th>195</th>\n",
              "      <td>64</td>\n",
              "      <td>56</td>\n",
              "      <td>199</td>\n",
              "      <td>135</td>\n",
              "      <td>0</td>\n",
              "      <td>1</td>\n",
              "      <td>2.261903</td>\n",
              "      <td>4.425904</td>\n",
              "    </tr>\n",
              "  </tbody>\n",
              "</table>\n",
              "</div>\n",
              "      <button class=\"colab-df-convert\" onclick=\"convertToInteractive('df-69532925-2e12-4eb4-8ff7-b6afcf6210c1')\"\n",
              "              title=\"Convert this dataframe to an interactive table.\"\n",
              "              style=\"display:none;\">\n",
              "        \n",
              "  <svg xmlns=\"http://www.w3.org/2000/svg\" height=\"24px\"viewBox=\"0 0 24 24\"\n",
              "       width=\"24px\">\n",
              "    <path d=\"M0 0h24v24H0V0z\" fill=\"none\"/>\n",
              "    <path d=\"M18.56 5.44l.94 2.06.94-2.06 2.06-.94-2.06-.94-.94-2.06-.94 2.06-2.06.94zm-11 1L8.5 8.5l.94-2.06 2.06-.94-2.06-.94L8.5 2.5l-.94 2.06-2.06.94zm10 10l.94 2.06.94-2.06 2.06-.94-2.06-.94-.94-2.06-.94 2.06-2.06.94z\"/><path d=\"M17.41 7.96l-1.37-1.37c-.4-.4-.92-.59-1.43-.59-.52 0-1.04.2-1.43.59L10.3 9.45l-7.72 7.72c-.78.78-.78 2.05 0 2.83L4 21.41c.39.39.9.59 1.41.59.51 0 1.02-.2 1.41-.59l7.78-7.78 2.81-2.81c.8-.78.8-2.07 0-2.86zM5.41 20L4 18.59l7.72-7.72 1.47 1.35L5.41 20z\"/>\n",
              "  </svg>\n",
              "      </button>\n",
              "      \n",
              "  <style>\n",
              "    .colab-df-container {\n",
              "      display:flex;\n",
              "      flex-wrap:wrap;\n",
              "      gap: 12px;\n",
              "    }\n",
              "\n",
              "    .colab-df-convert {\n",
              "      background-color: #E8F0FE;\n",
              "      border: none;\n",
              "      border-radius: 50%;\n",
              "      cursor: pointer;\n",
              "      display: none;\n",
              "      fill: #1967D2;\n",
              "      height: 32px;\n",
              "      padding: 0 0 0 0;\n",
              "      width: 32px;\n",
              "    }\n",
              "\n",
              "    .colab-df-convert:hover {\n",
              "      background-color: #E2EBFA;\n",
              "      box-shadow: 0px 1px 2px rgba(60, 64, 67, 0.3), 0px 1px 3px 1px rgba(60, 64, 67, 0.15);\n",
              "      fill: #174EA6;\n",
              "    }\n",
              "\n",
              "    [theme=dark] .colab-df-convert {\n",
              "      background-color: #3B4455;\n",
              "      fill: #D2E3FC;\n",
              "    }\n",
              "\n",
              "    [theme=dark] .colab-df-convert:hover {\n",
              "      background-color: #434B5C;\n",
              "      box-shadow: 0px 1px 3px 1px rgba(0, 0, 0, 0.15);\n",
              "      filter: drop-shadow(0px 1px 2px rgba(0, 0, 0, 0.3));\n",
              "      fill: #FFFFFF;\n",
              "    }\n",
              "  </style>\n",
              "\n",
              "      <script>\n",
              "        const buttonEl =\n",
              "          document.querySelector('#df-69532925-2e12-4eb4-8ff7-b6afcf6210c1 button.colab-df-convert');\n",
              "        buttonEl.style.display =\n",
              "          google.colab.kernel.accessAllowed ? 'block' : 'none';\n",
              "\n",
              "        async function convertToInteractive(key) {\n",
              "          const element = document.querySelector('#df-69532925-2e12-4eb4-8ff7-b6afcf6210c1');\n",
              "          const dataTable =\n",
              "            await google.colab.kernel.invokeFunction('convertToInteractive',\n",
              "                                                     [key], {});\n",
              "          if (!dataTable) return;\n",
              "\n",
              "          const docLinkHtml = 'Like what you see? Visit the ' +\n",
              "            '<a target=\"_blank\" href=https://colab.research.google.com/notebooks/data_table.ipynb>data table notebook</a>'\n",
              "            + ' to learn more about interactive tables.';\n",
              "          element.innerHTML = '';\n",
              "          dataTable['output_type'] = 'display_data';\n",
              "          await google.colab.output.renderOutput(dataTable, element);\n",
              "          const docLink = document.createElement('div');\n",
              "          docLink.innerHTML = docLinkHtml;\n",
              "          element.appendChild(docLink);\n",
              "        }\n",
              "      </script>\n",
              "    </div>\n",
              "  </div>\n",
              "  "
            ],
            "text/plain": [
              "     Referencia  NumAmostra  Area  ...  Output2  DeltaZscore  AreaZscore\n",
              "125          64          70   183  ...        1     5.136742    3.902526\n",
              "144          64          59   166  ...        1     2.515565    3.346437\n",
              "162          64          64   167  ...        1     2.825597    3.379148\n",
              "190          64          60   173  ...        1     2.938336    3.575415\n",
              "195          64          56   199  ...        1     2.261903    4.425904\n",
              "\n",
              "[5 rows x 8 columns]"
            ]
          },
          "metadata": {},
          "execution_count": 22
        }
      ],
      "source": [
        "DeltaOut.head()"
      ]
    },
    {
      "cell_type": "markdown",
      "metadata": {
        "id": "QquUgnW4Wkdz"
      },
      "source": [
        "Não existe um caso onde Output2 == 1 e Outpu1 == 1 nem Output2 == 0 e Outpu1 == 0"
      ]
    },
    {
      "cell_type": "code",
      "execution_count": 23,
      "metadata": {
        "colab": {
          "base_uri": "https://localhost:8080/",
          "height": 50
        },
        "id": "zY7MfQmiWgcc",
        "outputId": "55333af8-ffb1-4ab1-f213-a7618f77498e"
      },
      "outputs": [
        {
          "output_type": "execute_result",
          "data": {
            "text/html": [
              "\n",
              "  <div id=\"df-fa111463-ef2c-48b9-82e1-0fcb81ec2628\">\n",
              "    <div class=\"colab-df-container\">\n",
              "      <div>\n",
              "<style scoped>\n",
              "    .dataframe tbody tr th:only-of-type {\n",
              "        vertical-align: middle;\n",
              "    }\n",
              "\n",
              "    .dataframe tbody tr th {\n",
              "        vertical-align: top;\n",
              "    }\n",
              "\n",
              "    .dataframe thead th {\n",
              "        text-align: right;\n",
              "    }\n",
              "</style>\n",
              "<table border=\"1\" class=\"dataframe\">\n",
              "  <thead>\n",
              "    <tr style=\"text-align: right;\">\n",
              "      <th></th>\n",
              "      <th>Referencia</th>\n",
              "      <th>NumAmostra</th>\n",
              "      <th>Area</th>\n",
              "      <th>Delta</th>\n",
              "      <th>Output1</th>\n",
              "      <th>Output2</th>\n",
              "      <th>DeltaZscore</th>\n",
              "      <th>AreaZscore</th>\n",
              "    </tr>\n",
              "  </thead>\n",
              "  <tbody>\n",
              "  </tbody>\n",
              "</table>\n",
              "</div>\n",
              "      <button class=\"colab-df-convert\" onclick=\"convertToInteractive('df-fa111463-ef2c-48b9-82e1-0fcb81ec2628')\"\n",
              "              title=\"Convert this dataframe to an interactive table.\"\n",
              "              style=\"display:none;\">\n",
              "        \n",
              "  <svg xmlns=\"http://www.w3.org/2000/svg\" height=\"24px\"viewBox=\"0 0 24 24\"\n",
              "       width=\"24px\">\n",
              "    <path d=\"M0 0h24v24H0V0z\" fill=\"none\"/>\n",
              "    <path d=\"M18.56 5.44l.94 2.06.94-2.06 2.06-.94-2.06-.94-.94-2.06-.94 2.06-2.06.94zm-11 1L8.5 8.5l.94-2.06 2.06-.94-2.06-.94L8.5 2.5l-.94 2.06-2.06.94zm10 10l.94 2.06.94-2.06 2.06-.94-2.06-.94-.94-2.06-.94 2.06-2.06.94z\"/><path d=\"M17.41 7.96l-1.37-1.37c-.4-.4-.92-.59-1.43-.59-.52 0-1.04.2-1.43.59L10.3 9.45l-7.72 7.72c-.78.78-.78 2.05 0 2.83L4 21.41c.39.39.9.59 1.41.59.51 0 1.02-.2 1.41-.59l7.78-7.78 2.81-2.81c.8-.78.8-2.07 0-2.86zM5.41 20L4 18.59l7.72-7.72 1.47 1.35L5.41 20z\"/>\n",
              "  </svg>\n",
              "      </button>\n",
              "      \n",
              "  <style>\n",
              "    .colab-df-container {\n",
              "      display:flex;\n",
              "      flex-wrap:wrap;\n",
              "      gap: 12px;\n",
              "    }\n",
              "\n",
              "    .colab-df-convert {\n",
              "      background-color: #E8F0FE;\n",
              "      border: none;\n",
              "      border-radius: 50%;\n",
              "      cursor: pointer;\n",
              "      display: none;\n",
              "      fill: #1967D2;\n",
              "      height: 32px;\n",
              "      padding: 0 0 0 0;\n",
              "      width: 32px;\n",
              "    }\n",
              "\n",
              "    .colab-df-convert:hover {\n",
              "      background-color: #E2EBFA;\n",
              "      box-shadow: 0px 1px 2px rgba(60, 64, 67, 0.3), 0px 1px 3px 1px rgba(60, 64, 67, 0.15);\n",
              "      fill: #174EA6;\n",
              "    }\n",
              "\n",
              "    [theme=dark] .colab-df-convert {\n",
              "      background-color: #3B4455;\n",
              "      fill: #D2E3FC;\n",
              "    }\n",
              "\n",
              "    [theme=dark] .colab-df-convert:hover {\n",
              "      background-color: #434B5C;\n",
              "      box-shadow: 0px 1px 3px 1px rgba(0, 0, 0, 0.15);\n",
              "      filter: drop-shadow(0px 1px 2px rgba(0, 0, 0, 0.3));\n",
              "      fill: #FFFFFF;\n",
              "    }\n",
              "  </style>\n",
              "\n",
              "      <script>\n",
              "        const buttonEl =\n",
              "          document.querySelector('#df-fa111463-ef2c-48b9-82e1-0fcb81ec2628 button.colab-df-convert');\n",
              "        buttonEl.style.display =\n",
              "          google.colab.kernel.accessAllowed ? 'block' : 'none';\n",
              "\n",
              "        async function convertToInteractive(key) {\n",
              "          const element = document.querySelector('#df-fa111463-ef2c-48b9-82e1-0fcb81ec2628');\n",
              "          const dataTable =\n",
              "            await google.colab.kernel.invokeFunction('convertToInteractive',\n",
              "                                                     [key], {});\n",
              "          if (!dataTable) return;\n",
              "\n",
              "          const docLinkHtml = 'Like what you see? Visit the ' +\n",
              "            '<a target=\"_blank\" href=https://colab.research.google.com/notebooks/data_table.ipynb>data table notebook</a>'\n",
              "            + ' to learn more about interactive tables.';\n",
              "          element.innerHTML = '';\n",
              "          dataTable['output_type'] = 'display_data';\n",
              "          await google.colab.output.renderOutput(dataTable, element);\n",
              "          const docLink = document.createElement('div');\n",
              "          docLink.innerHTML = docLinkHtml;\n",
              "          element.appendChild(docLink);\n",
              "        }\n",
              "      </script>\n",
              "    </div>\n",
              "  </div>\n",
              "  "
            ],
            "text/plain": [
              "Empty DataFrame\n",
              "Columns: [Referencia, NumAmostra, Area, Delta, Output1, Output2, DeltaZscore, AreaZscore]\n",
              "Index: []"
            ]
          },
          "metadata": {},
          "execution_count": 23
        }
      ],
      "source": [
        "DataSet[ ( (DataSet.Output2 == 0) & (DataSet.Output1 == 0))]"
      ]
    },
    {
      "cell_type": "code",
      "execution_count": 24,
      "metadata": {
        "colab": {
          "base_uri": "https://localhost:8080/",
          "height": 50
        },
        "id": "g7pIGBzfWiz7",
        "outputId": "c4f2145a-9c44-402c-ac6f-bdc3ee935d3a"
      },
      "outputs": [
        {
          "output_type": "execute_result",
          "data": {
            "text/html": [
              "\n",
              "  <div id=\"df-9a4d141f-c968-40f1-9c4e-95e81e971a8a\">\n",
              "    <div class=\"colab-df-container\">\n",
              "      <div>\n",
              "<style scoped>\n",
              "    .dataframe tbody tr th:only-of-type {\n",
              "        vertical-align: middle;\n",
              "    }\n",
              "\n",
              "    .dataframe tbody tr th {\n",
              "        vertical-align: top;\n",
              "    }\n",
              "\n",
              "    .dataframe thead th {\n",
              "        text-align: right;\n",
              "    }\n",
              "</style>\n",
              "<table border=\"1\" class=\"dataframe\">\n",
              "  <thead>\n",
              "    <tr style=\"text-align: right;\">\n",
              "      <th></th>\n",
              "      <th>Referencia</th>\n",
              "      <th>NumAmostra</th>\n",
              "      <th>Area</th>\n",
              "      <th>Delta</th>\n",
              "      <th>Output1</th>\n",
              "      <th>Output2</th>\n",
              "      <th>DeltaZscore</th>\n",
              "      <th>AreaZscore</th>\n",
              "    </tr>\n",
              "  </thead>\n",
              "  <tbody>\n",
              "  </tbody>\n",
              "</table>\n",
              "</div>\n",
              "      <button class=\"colab-df-convert\" onclick=\"convertToInteractive('df-9a4d141f-c968-40f1-9c4e-95e81e971a8a')\"\n",
              "              title=\"Convert this dataframe to an interactive table.\"\n",
              "              style=\"display:none;\">\n",
              "        \n",
              "  <svg xmlns=\"http://www.w3.org/2000/svg\" height=\"24px\"viewBox=\"0 0 24 24\"\n",
              "       width=\"24px\">\n",
              "    <path d=\"M0 0h24v24H0V0z\" fill=\"none\"/>\n",
              "    <path d=\"M18.56 5.44l.94 2.06.94-2.06 2.06-.94-2.06-.94-.94-2.06-.94 2.06-2.06.94zm-11 1L8.5 8.5l.94-2.06 2.06-.94-2.06-.94L8.5 2.5l-.94 2.06-2.06.94zm10 10l.94 2.06.94-2.06 2.06-.94-2.06-.94-.94-2.06-.94 2.06-2.06.94z\"/><path d=\"M17.41 7.96l-1.37-1.37c-.4-.4-.92-.59-1.43-.59-.52 0-1.04.2-1.43.59L10.3 9.45l-7.72 7.72c-.78.78-.78 2.05 0 2.83L4 21.41c.39.39.9.59 1.41.59.51 0 1.02-.2 1.41-.59l7.78-7.78 2.81-2.81c.8-.78.8-2.07 0-2.86zM5.41 20L4 18.59l7.72-7.72 1.47 1.35L5.41 20z\"/>\n",
              "  </svg>\n",
              "      </button>\n",
              "      \n",
              "  <style>\n",
              "    .colab-df-container {\n",
              "      display:flex;\n",
              "      flex-wrap:wrap;\n",
              "      gap: 12px;\n",
              "    }\n",
              "\n",
              "    .colab-df-convert {\n",
              "      background-color: #E8F0FE;\n",
              "      border: none;\n",
              "      border-radius: 50%;\n",
              "      cursor: pointer;\n",
              "      display: none;\n",
              "      fill: #1967D2;\n",
              "      height: 32px;\n",
              "      padding: 0 0 0 0;\n",
              "      width: 32px;\n",
              "    }\n",
              "\n",
              "    .colab-df-convert:hover {\n",
              "      background-color: #E2EBFA;\n",
              "      box-shadow: 0px 1px 2px rgba(60, 64, 67, 0.3), 0px 1px 3px 1px rgba(60, 64, 67, 0.15);\n",
              "      fill: #174EA6;\n",
              "    }\n",
              "\n",
              "    [theme=dark] .colab-df-convert {\n",
              "      background-color: #3B4455;\n",
              "      fill: #D2E3FC;\n",
              "    }\n",
              "\n",
              "    [theme=dark] .colab-df-convert:hover {\n",
              "      background-color: #434B5C;\n",
              "      box-shadow: 0px 1px 3px 1px rgba(0, 0, 0, 0.15);\n",
              "      filter: drop-shadow(0px 1px 2px rgba(0, 0, 0, 0.3));\n",
              "      fill: #FFFFFF;\n",
              "    }\n",
              "  </style>\n",
              "\n",
              "      <script>\n",
              "        const buttonEl =\n",
              "          document.querySelector('#df-9a4d141f-c968-40f1-9c4e-95e81e971a8a button.colab-df-convert');\n",
              "        buttonEl.style.display =\n",
              "          google.colab.kernel.accessAllowed ? 'block' : 'none';\n",
              "\n",
              "        async function convertToInteractive(key) {\n",
              "          const element = document.querySelector('#df-9a4d141f-c968-40f1-9c4e-95e81e971a8a');\n",
              "          const dataTable =\n",
              "            await google.colab.kernel.invokeFunction('convertToInteractive',\n",
              "                                                     [key], {});\n",
              "          if (!dataTable) return;\n",
              "\n",
              "          const docLinkHtml = 'Like what you see? Visit the ' +\n",
              "            '<a target=\"_blank\" href=https://colab.research.google.com/notebooks/data_table.ipynb>data table notebook</a>'\n",
              "            + ' to learn more about interactive tables.';\n",
              "          element.innerHTML = '';\n",
              "          dataTable['output_type'] = 'display_data';\n",
              "          await google.colab.output.renderOutput(dataTable, element);\n",
              "          const docLink = document.createElement('div');\n",
              "          docLink.innerHTML = docLinkHtml;\n",
              "          element.appendChild(docLink);\n",
              "        }\n",
              "      </script>\n",
              "    </div>\n",
              "  </div>\n",
              "  "
            ],
            "text/plain": [
              "Empty DataFrame\n",
              "Columns: [Referencia, NumAmostra, Area, Delta, Output1, Output2, DeltaZscore, AreaZscore]\n",
              "Index: []"
            ]
          },
          "metadata": {},
          "execution_count": 24
        }
      ],
      "source": [
        "DataSet[ ( (DataSet.Output2 == 1) & (DataSet.Output1 == 1))]"
      ]
    },
    {
      "cell_type": "markdown",
      "metadata": {
        "id": "vPJOL01GzeTD"
      },
      "source": [
        "##*TENTATIVA* de gerar 2 cluster pra ver como fica a classificação com k-means"
      ]
    },
    {
      "cell_type": "code",
      "execution_count": 25,
      "metadata": {
        "colab": {
          "base_uri": "https://localhost:8080/",
          "height": 295
        },
        "id": "6BhSesF97bs5",
        "outputId": "95e80512-baa7-4ffe-ebb8-3c8f62aa8252"
      },
      "outputs": [
        {
          "output_type": "display_data",
          "data": {
            "image/png": "[encoded data removed]",
            "text/plain": [
              "<Figure size 432x288 with 1 Axes>"
            ]
          },
          "metadata": {}
        }
      ],
      "source": [
        "deltas1 = DataSet.Delta[ DataSet.Output2 ==1].to_list()\n",
        "areas1 = DataSet.Area[ DataSet.Output2 == 1].to_list()\n",
        "deltas0 = DataSet.Delta[ DataSet.Output2 == 0].to_list()\n",
        "areas0 = DataSet.Area[ DataSet.Output2 == 0].to_list()\n",
        "\n",
        "plt.scatter(deltas1, areas1 , color = 'red')\n",
        "plt.scatter(deltas0, areas0 , color = 'black')\n",
        "plt.xlabel('Delta')\n",
        "plt.ylabel(\"Area\")\n",
        "plt.title(\"Classificação\")\n",
        "plt.show()"
      ]
    },
    {
      "cell_type": "code",
      "execution_count": 26,
      "metadata": {
        "id": "UNyfSCY0zY47"
      },
      "outputs": [],
      "source": [
        "from sklearn.cluster import KMeans\n",
        "from sklearn.preprocessing import StandardScaler\n",
        "scaler=StandardScaler()\n",
        "X_k = scaler.fit_transform(DataSet[['Area','NumAmostra', 'Referencia', 'Delta']])\n",
        "kmeans = KMeans(n_clusters=2, random_state=0).fit(X_k)\n",
        "DataSet['k_labels'] = kmeans.labels_"
      ]
    },
    {
      "cell_type": "code",
      "execution_count": 27,
      "metadata": {
        "colab": {
          "base_uri": "https://localhost:8080/",
          "height": 295
        },
        "id": "oV-C9BO1zn7W",
        "outputId": "5da6d0a4-62bf-4767-a7cb-ccd4ec2cf38d"
      },
      "outputs": [
        {
          "output_type": "display_data",
          "data": {
            "image/png": "[encoded data removed]",
            "text/plain": [
              "<Figure size 432x288 with 1 Axes>"
            ]
          },
          "metadata": {}
        }
      ],
      "source": [
        "deltas1k = DataSet.Delta[ DataSet.k_labels ==1].to_list()\n",
        "areas1k = DataSet.Area[ DataSet.k_labels == 1].to_list()\n",
        "deltas0k = DataSet.Delta[ DataSet.k_labels == 0].to_list()\n",
        "areas0k = DataSet.Area[ DataSet.k_labels == 0].to_list()\n",
        "\n",
        "plt.scatter(deltas1k, areas1k , color = 'black')\n",
        "plt.scatter(deltas0k, areas0k , color = 'red')\n",
        "plt.xlabel('Delta')\n",
        "plt.ylabel(\"Area\")\n",
        "plt.title(\"Clusters do K-means\")\n",
        "plt.show()\n"
      ]
    },
    {
      "cell_type": "markdown",
      "metadata": {
        "id": "-d0f6qrdVlSr"
      },
      "source": [
        "##*TENTATIVA*: Como não sabia ao certo o que era a variavel Area, tentei criar novos atributos"
      ]
    },
    {
      "cell_type": "code",
      "execution_count": 28,
      "metadata": {
        "id": "ieNd8N0MsppD"
      },
      "outputs": [],
      "source": [
        "import math"
      ]
    },
    {
      "cell_type": "code",
      "execution_count": 29,
      "metadata": {
        "id": "L2g_iL_5sWvK"
      },
      "outputs": [],
      "source": [
        "areas = DataSet.Area.to_list()\n",
        "raios = []\n",
        "for a in areas:\n",
        "  raios.append(math.sqrt( a / 3.14))"
      ]
    },
    {
      "cell_type": "code",
      "execution_count": 30,
      "metadata": {
        "id": "h4CVzP9MtXbD"
      },
      "outputs": [],
      "source": [
        "DataSet['raio'] = raios"
      ]
    },
    {
      "cell_type": "code",
      "execution_count": 31,
      "metadata": {
        "id": "08T_zhFZSYl0"
      },
      "outputs": [],
      "source": [
        "DataSet['diametro'] = DataSet.raio * 2"
      ]
    },
    {
      "cell_type": "code",
      "execution_count": 32,
      "metadata": {
        "id": "GFqwwNR9Shj7"
      },
      "outputs": [],
      "source": [
        "DataSet['comprimento'] = DataSet.diametro * 3.14"
      ]
    },
    {
      "cell_type": "markdown",
      "metadata": {
        "id": "g22fLA7s0QmE"
      },
      "source": [
        "##Algumas analises para tentar tirar alguma conclusão"
      ]
    },
    {
      "cell_type": "code",
      "execution_count": 33,
      "metadata": {
        "colab": {
          "base_uri": "https://localhost:8080/"
        },
        "id": "Negq5F1MkCWd",
        "outputId": "84ebdb46-f674-4b23-f68c-b42dba5de7ef"
      },
      "outputs": [
        {
          "output_type": "stream",
          "name": "stdout",
          "text": [
            "63.69731800766284\n",
            "54.747126436781606\n"
          ]
        }
      ],
      "source": [
        "print(DataSet.Area.mean())\n",
        "print(DataSet.Delta.mean())"
      ]
    },
    {
      "cell_type": "code",
      "execution_count": 34,
      "metadata": {
        "colab": {
          "base_uri": "https://localhost:8080/"
        },
        "id": "EHzUsvh2kLo1",
        "outputId": "b3ac2638-2d19-4a16-9758-aa1c0d9a3ae7"
      },
      "outputs": [
        {
          "output_type": "execute_result",
          "data": {
            "text/plain": [
              "0    55\n",
              "1    29\n",
              "Name: Output1, dtype: int64"
            ]
          },
          "metadata": {},
          "execution_count": 34
        }
      ],
      "source": [
        "DataSet.Output1[ DataSet.Area > DataSet.Area.mean() ].value_counts()"
      ]
    },
    {
      "cell_type": "code",
      "execution_count": 35,
      "metadata": {
        "colab": {
          "base_uri": "https://localhost:8080/"
        },
        "id": "M2y8Rod9nIpu",
        "outputId": "d726e502-7683-46bb-ab38-79ed607be196"
      },
      "outputs": [
        {
          "output_type": "execute_result",
          "data": {
            "text/plain": [
              "50    12\n",
              "53    11\n",
              "45    11\n",
              "59    10\n",
              "54     8\n",
              "      ..\n",
              "94     1\n",
              "82     1\n",
              "85     1\n",
              "91     1\n",
              "22     1\n",
              "Name: NumAmostra, Length: 70, dtype: int64"
            ]
          },
          "metadata": {},
          "execution_count": 35
        }
      ],
      "source": [
        "DataSet['NumAmostra'].value_counts()"
      ]
    },
    {
      "cell_type": "code",
      "execution_count": 36,
      "metadata": {
        "colab": {
          "base_uri": "https://localhost:8080/"
        },
        "id": "iYOT9PCgp91r",
        "outputId": "bed010ea-521e-42be-8330-c85b46331e9a"
      },
      "outputs": [
        {
          "output_type": "stream",
          "name": "stdout",
          "text": [
            "Area output2 0 mean 59.93877551020408\n",
            "Delta output2 0 mean 43.59183673469388\n",
            "Area output2 1 mean 65.95705521472392\n",
            "Delta output2 1 mean 61.45398773006135\n"
          ]
        }
      ],
      "source": [
        "print('Area output2 0 mean',DataSet.Area[ DataSet.Output2 == 0].mean())\n",
        "print('Delta output2 0 mean', DataSet.Delta[ DataSet.Output2 == 0].mean())\n",
        "print('Area output2 1 mean',DataSet.Area[ DataSet.Output2 == 1].mean())\n",
        "print('Delta output2 1 mean', DataSet.Delta[ DataSet.Output2 == 1].mean())"
      ]
    },
    {
      "cell_type": "markdown",
      "metadata": {
        "id": "ewvuAb6gQdQT"
      },
      "source": [
        "## Normalização dos Dados"
      ]
    },
    {
      "cell_type": "code",
      "execution_count": 37,
      "metadata": {
        "id": "ZQTMlNqjQdQU"
      },
      "outputs": [],
      "source": [
        "#DataSetRun = DataSet[[ 'k_labels','Area','NumAmostra', 'Referencia', 'Delta', 'Output1','Output2']]\n",
        "DataSetRun = DataSet[[ 'Area','NumAmostra', 'Referencia', 'Delta', 'Output1','Output2']]\n",
        "from sklearn.preprocessing import StandardScaler\n",
        "scaler=StandardScaler()\n",
        "DataScaled = scaler.fit_transform(DataSetRun)\n",
        "#DataSetScaled=pd.DataFrame(np.array(DataScaled), columns = [ 'k_labels','Area','NumAmostra', 'Referencia', 'Delta', 'Output1','Output2'])\n",
        "DataSetScaled=pd.DataFrame(np.array(DataScaled), columns = [ 'Area','NumAmostra', 'Referencia', 'Delta', 'Output1','Output2'])\n"
      ]
    },
    {
      "cell_type": "code",
      "execution_count": 38,
      "metadata": {
        "colab": {
          "base_uri": "https://localhost:8080/",
          "height": 206
        },
        "id": "R3O4KmAOQdQU",
        "outputId": "9f2f7722-88bb-4e7f-b304-72bd43a91b75"
      },
      "outputs": [
        {
          "output_type": "execute_result",
          "data": {
            "text/html": [
              "\n",
              "  <div id=\"df-e9796af1-c9be-419e-a439-8931c6e11dbe\">\n",
              "    <div class=\"colab-df-container\">\n",
              "      <div>\n",
              "<style scoped>\n",
              "    .dataframe tbody tr th:only-of-type {\n",
              "        vertical-align: middle;\n",
              "    }\n",
              "\n",
              "    .dataframe tbody tr th {\n",
              "        vertical-align: top;\n",
              "    }\n",
              "\n",
              "    .dataframe thead th {\n",
              "        text-align: right;\n",
              "    }\n",
              "</style>\n",
              "<table border=\"1\" class=\"dataframe\">\n",
              "  <thead>\n",
              "    <tr style=\"text-align: right;\">\n",
              "      <th></th>\n",
              "      <th>Area</th>\n",
              "      <th>NumAmostra</th>\n",
              "      <th>Referencia</th>\n",
              "      <th>Delta</th>\n",
              "      <th>Output1</th>\n",
              "      <th>Output2</th>\n",
              "    </tr>\n",
              "  </thead>\n",
              "  <tbody>\n",
              "    <tr>\n",
              "      <th>0</th>\n",
              "      <td>0.565990</td>\n",
              "      <td>0.534314</td>\n",
              "      <td>-3.627690</td>\n",
              "      <td>0.373528</td>\n",
              "      <td>1.289676</td>\n",
              "      <td>-1.289676</td>\n",
              "    </tr>\n",
              "    <tr>\n",
              "      <th>1</th>\n",
              "      <td>0.762257</td>\n",
              "      <td>1.693069</td>\n",
              "      <td>-3.518784</td>\n",
              "      <td>0.035312</td>\n",
              "      <td>1.289676</td>\n",
              "      <td>-1.289676</td>\n",
              "    </tr>\n",
              "    <tr>\n",
              "      <th>2</th>\n",
              "      <td>0.173457</td>\n",
              "      <td>0.476377</td>\n",
              "      <td>-3.409879</td>\n",
              "      <td>0.007127</td>\n",
              "      <td>1.289676</td>\n",
              "      <td>-1.289676</td>\n",
              "    </tr>\n",
              "    <tr>\n",
              "      <th>3</th>\n",
              "      <td>-0.448055</td>\n",
              "      <td>-1.377630</td>\n",
              "      <td>-3.300973</td>\n",
              "      <td>0.711745</td>\n",
              "      <td>1.289676</td>\n",
              "      <td>-1.289676</td>\n",
              "    </tr>\n",
              "    <tr>\n",
              "      <th>4</th>\n",
              "      <td>0.271590</td>\n",
              "      <td>0.650190</td>\n",
              "      <td>-3.192067</td>\n",
              "      <td>-0.133796</td>\n",
              "      <td>1.289676</td>\n",
              "      <td>-1.289676</td>\n",
              "    </tr>\n",
              "  </tbody>\n",
              "</table>\n",
              "</div>\n",
              "      <button class=\"colab-df-convert\" onclick=\"convertToInteractive('df-e9796af1-c9be-419e-a439-8931c6e11dbe')\"\n",
              "              title=\"Convert this dataframe to an interactive table.\"\n",
              "              style=\"display:none;\">\n",
              "        \n",
              "  <svg xmlns=\"http://www.w3.org/2000/svg\" height=\"24px\"viewBox=\"0 0 24 24\"\n",
              "       width=\"24px\">\n",
              "    <path d=\"M0 0h24v24H0V0z\" fill=\"none\"/>\n",
              "    <path d=\"M18.56 5.44l.94 2.06.94-2.06 2.06-.94-2.06-.94-.94-2.06-.94 2.06-2.06.94zm-11 1L8.5 8.5l.94-2.06 2.06-.94-2.06-.94L8.5 2.5l-.94 2.06-2.06.94zm10 10l.94 2.06.94-2.06 2.06-.94-2.06-.94-.94-2.06-.94 2.06-2.06.94z\"/><path d=\"M17.41 7.96l-1.37-1.37c-.4-.4-.92-.59-1.43-.59-.52 0-1.04.2-1.43.59L10.3 9.45l-7.72 7.72c-.78.78-.78 2.05 0 2.83L4 21.41c.39.39.9.59 1.41.59.51 0 1.02-.2 1.41-.59l7.78-7.78 2.81-2.81c.8-.78.8-2.07 0-2.86zM5.41 20L4 18.59l7.72-7.72 1.47 1.35L5.41 20z\"/>\n",
              "  </svg>\n",
              "      </button>\n",
              "      \n",
              "  <style>\n",
              "    .colab-df-container {\n",
              "      display:flex;\n",
              "      flex-wrap:wrap;\n",
              "      gap: 12px;\n",
              "    }\n",
              "\n",
              "    .colab-df-convert {\n",
              "      background-color: #E8F0FE;\n",
              "      border: none;\n",
              "      border-radius: 50%;\n",
              "      cursor: pointer;\n",
              "      display: none;\n",
              "      fill: #1967D2;\n",
              "      height: 32px;\n",
              "      padding: 0 0 0 0;\n",
              "      width: 32px;\n",
              "    }\n",
              "\n",
              "    .colab-df-convert:hover {\n",
              "      background-color: #E2EBFA;\n",
              "      box-shadow: 0px 1px 2px rgba(60, 64, 67, 0.3), 0px 1px 3px 1px rgba(60, 64, 67, 0.15);\n",
              "      fill: #174EA6;\n",
              "    }\n",
              "\n",
              "    [theme=dark] .colab-df-convert {\n",
              "      background-color: #3B4455;\n",
              "      fill: #D2E3FC;\n",
              "    }\n",
              "\n",
              "    [theme=dark] .colab-df-convert:hover {\n",
              "      background-color: #434B5C;\n",
              "      box-shadow: 0px 1px 3px 1px rgba(0, 0, 0, 0.15);\n",
              "      filter: drop-shadow(0px 1px 2px rgba(0, 0, 0, 0.3));\n",
              "      fill: #FFFFFF;\n",
              "    }\n",
              "  </style>\n",
              "\n",
              "      <script>\n",
              "        const buttonEl =\n",
              "          document.querySelector('#df-e9796af1-c9be-419e-a439-8931c6e11dbe button.colab-df-convert');\n",
              "        buttonEl.style.display =\n",
              "          google.colab.kernel.accessAllowed ? 'block' : 'none';\n",
              "\n",
              "        async function convertToInteractive(key) {\n",
              "          const element = document.querySelector('#df-e9796af1-c9be-419e-a439-8931c6e11dbe');\n",
              "          const dataTable =\n",
              "            await google.colab.kernel.invokeFunction('convertToInteractive',\n",
              "                                                     [key], {});\n",
              "          if (!dataTable) return;\n",
              "\n",
              "          const docLinkHtml = 'Like what you see? Visit the ' +\n",
              "            '<a target=\"_blank\" href=https://colab.research.google.com/notebooks/data_table.ipynb>data table notebook</a>'\n",
              "            + ' to learn more about interactive tables.';\n",
              "          element.innerHTML = '';\n",
              "          dataTable['output_type'] = 'display_data';\n",
              "          await google.colab.output.renderOutput(dataTable, element);\n",
              "          const docLink = document.createElement('div');\n",
              "          docLink.innerHTML = docLinkHtml;\n",
              "          element.appendChild(docLink);\n",
              "        }\n",
              "      </script>\n",
              "    </div>\n",
              "  </div>\n",
              "  "
            ],
            "text/plain": [
              "       Area  NumAmostra  Referencia     Delta   Output1   Output2\n",
              "0  0.565990    0.534314   -3.627690  0.373528  1.289676 -1.289676\n",
              "1  0.762257    1.693069   -3.518784  0.035312  1.289676 -1.289676\n",
              "2  0.173457    0.476377   -3.409879  0.007127  1.289676 -1.289676\n",
              "3 -0.448055   -1.377630   -3.300973  0.711745  1.289676 -1.289676\n",
              "4  0.271590    0.650190   -3.192067 -0.133796  1.289676 -1.289676"
            ]
          },
          "metadata": {},
          "execution_count": 38
        }
      ],
      "source": [
        "DataSetScaled.head()"
      ]
    },
    {
      "cell_type": "markdown",
      "metadata": {
        "id": "fqZFWy37QdQU"
      },
      "source": [
        "### Conjunto de dados para o treinamento"
      ]
    },
    {
      "cell_type": "code",
      "execution_count": 39,
      "metadata": {
        "id": "o-PNctjyQdQU"
      },
      "outputs": [],
      "source": [
        "X = DataSetScaled.drop(['Output1', 'Output2'],axis=1) #entradas sem Output1 e 2\n",
        "y = DataSet[['Output1','Output2']]"
      ]
    },
    {
      "cell_type": "markdown",
      "metadata": {
        "id": "ESEyQeJKQdQV"
      },
      "source": [
        "## Separando os dados de treinamento e de validação\n",
        "\n",
        "Agora vamos dividir os dados em um conjunto de treinamento e um conjunto de testes. Vamos treinar o modelo no conjunto de treinamento, em seguida, usar o conjunto de teste para validar o modelo.\n",
        "\n",
        "Em nosso exemplo iremos separar de forma randômica 33% dos dados para validação. Estes dados não serão utilizados para determinação dos coeficientes preditores do modelo. \n"
      ]
    },
    {
      "cell_type": "code",
      "execution_count": 40,
      "metadata": {
        "id": "XmwoUqPBQdQW",
        "colab": {
          "base_uri": "https://localhost:8080/"
        },
        "outputId": "f5b54d79-ba6f-4770-b451-94b08e03a186"
      },
      "outputs": [
        {
          "output_type": "stream",
          "name": "stdout",
          "text": [
            "     Output1  Output2\n",
            "89         1        0\n",
            "212        0        1\n",
            "218        0        1\n",
            "96         1        0\n",
            "88         1        0\n",
            "..       ...      ...\n",
            "22         1        0\n",
            "42         1        0\n",
            "160        0        1\n",
            "93         1        0\n",
            "50         1        0\n",
            "\n",
            "[79 rows x 2 columns]\n",
            "         Area  NumAmostra  Referencia     Delta\n",
            "89  -0.186366    0.476377   -0.469422 -0.331089\n",
            "212 -1.036855   -0.856191    0.619637 -0.725675\n",
            "218 -0.088232    1.229567    0.619637 -0.669306\n",
            "96  -0.938722   -1.667319   -0.251610  0.007127\n",
            "88  -0.415344   -0.103000   -0.469422 -0.472013\n",
            "..        ...         ...         ...       ...\n",
            "22  -0.251788    0.534314   -1.667386 -0.528382\n",
            "42  -0.120943    0.534314   -0.142704 -0.500197\n",
            "160  1.285635    2.214508    0.619637  0.035312\n",
            "93   0.009901    0.128750   -0.360516  0.035312\n",
            "50  -0.055521    0.360501    0.401825 -0.387459\n",
            "\n",
            "[79 rows x 4 columns]\n"
          ]
        }
      ],
      "source": [
        "from sklearn.model_selection import train_test_split\n",
        "X_train, X_test, y_train, y_test = train_test_split(X, y, test_size=0.3, random_state=101)\n",
        "\n",
        "print(y_test)\n",
        "print(X_test)"
      ]
    },
    {
      "cell_type": "markdown",
      "metadata": {
        "id": "WXOtRJsuQdQX"
      },
      "source": [
        "## Algoritmo Backpropagation"
      ]
    },
    {
      "cell_type": "code",
      "execution_count": 41,
      "metadata": {
        "colab": {
          "base_uri": "https://localhost:8080/"
        },
        "id": "mhpFWkc2QdQX",
        "outputId": "94fbaa45-1616-4b34-fe49-c12b2796e2ef"
      },
      "outputs": [
        {
          "output_type": "stream",
          "name": "stdout",
          "text": [
            "Erro quadrático no treinamento:  0.2232467576857341\n",
            "Erro quadrático no treinamento:  0.2511460928282931  Atenção: O erro está aumentando\n",
            "Erro quadrático no treinamento:  0.03427247989909218\n",
            "Erro quadrático no treinamento:  0.004901399575793016\n",
            "Erro quadrático no treinamento:  0.0014999892021074722\n",
            "Erro quadrático no treinamento:  0.0006590784171854919\n",
            "Erro quadrático no treinamento:  0.0003501462419154886\n",
            "Erro quadrático no treinamento:  0.00020864765806453945\n",
            "Erro quadrático no treinamento:  0.00013425722069149287\n",
            "Erro quadrático no treinamento:  9.129061470866963e-05\n",
            "Erro quadrático no treinamento:  6.471811763084408e-05\n",
            "Erro quadrático no treinamento:  4.740637686581293e-05\n",
            "Erro quadrático no treinamento:  3.565511166955191e-05\n",
            "Erro quadrático no treinamento:  2.740819644366978e-05\n",
            "Erro quadrático no treinamento:  2.1458635187195942e-05\n",
            "Erro quadrático no treinamento:  1.7065356586118594e-05\n",
            "Erro quadrático no treinamento:  1.3755992304925271e-05\n",
            "Erro quadrático no treinamento:  1.12197305383326e-05\n",
            "Erro quadrático no treinamento:  9.246398142250288e-06\n",
            "Erro quadrático no treinamento:  7.690456700328877e-06\n",
            "0.08 learnrate hidden 4 \n",
            "A Acurácia da Predição é de: 0.949\n",
            "\n",
            "\n",
            "Erro quadrático no treinamento:  0.26061592439515385  Atenção: O erro está aumentando\n",
            "Erro quadrático no treinamento:  0.10741409678216532\n",
            "Erro quadrático no treinamento:  0.0033624013971118687\n",
            "Erro quadrático no treinamento:  0.0007739761322511853\n",
            "Erro quadrático no treinamento:  0.0002806613241768741\n",
            "Erro quadrático no treinamento:  0.00012577381539740756\n",
            "Erro quadrático no treinamento:  6.39880286001014e-05\n",
            "Erro quadrático no treinamento:  3.5499287581983204e-05\n",
            "Erro quadrático no treinamento:  2.099470174619402e-05\n",
            "Erro quadrático no treinamento:  1.3048808782342844e-05\n",
            "Erro quadrático no treinamento:  8.440739710067571e-06\n",
            "Erro quadrático no treinamento:  5.642795976057185e-06\n",
            "Erro quadrático no treinamento:  3.878157623222655e-06\n",
            "Erro quadrático no treinamento:  2.7289952074834438e-06\n",
            "Erro quadrático no treinamento:  1.9598480191257146e-06\n",
            "Erro quadrático no treinamento:  1.432683627084367e-06\n",
            "Erro quadrático no treinamento:  1.0637890367936224e-06\n",
            "Erro quadrático no treinamento:  8.008707685143043e-07\n",
            "Erro quadrático no treinamento:  6.10402031775854e-07\n",
            "Erro quadrático no treinamento:  4.7038710086505154e-07\n",
            "0.1 learnrate hidden 4 \n",
            "A Acurácia da Predição é de: 0.949\n",
            "\n",
            "\n",
            "Erro quadrático no treinamento:  0.24490307996190486  Atenção: O erro está aumentando\n",
            "Erro quadrático no treinamento:  0.0030950256356560243\n",
            "Erro quadrático no treinamento:  0.0005366125925367819\n",
            "Erro quadrático no treinamento:  0.00020452319674767926\n",
            "Erro quadrático no treinamento:  0.0001026045161732138\n",
            "Erro quadrático no treinamento:  5.9404716507579074e-05\n",
            "Erro quadrático no treinamento:  3.758273897565282e-05\n",
            "Erro quadrático no treinamento:  2.5257975777272648e-05\n",
            "Erro quadrático no treinamento:  1.773610911903213e-05\n",
            "Erro quadrático no treinamento:  1.2876430580684284e-05\n",
            "Erro quadrático no treinamento:  9.596923345187904e-06\n",
            "Erro quadrático no treinamento:  7.306418734830192e-06\n",
            "Erro quadrático no treinamento:  5.661601872122452e-06\n",
            "Erro quadrático no treinamento:  4.453056802710345e-06\n",
            "Erro quadrático no treinamento:  3.547784611617654e-06\n",
            "Erro quadrático no treinamento:  2.8584273780692606e-06\n",
            "Erro quadrático no treinamento:  2.3259504185708055e-06\n",
            "Erro quadrático no treinamento:  1.909477955453829e-06\n",
            "Erro quadrático no treinamento:  1.5801075558330386e-06\n",
            "Erro quadrático no treinamento:  1.3170259819028022e-06\n",
            "0.13 learnrate hidden 4 \n",
            "A Acurácia da Predição é de: 0.949\n",
            "\n",
            "\n",
            "Erro quadrático no treinamento:  0.2648919370569283  Atenção: O erro está aumentando\n",
            "Erro quadrático no treinamento:  0.011429794556419706\n",
            "Erro quadrático no treinamento:  0.0007525989173884024\n",
            "Erro quadrático no treinamento:  0.00019691164541695374\n",
            "Erro quadrático no treinamento:  7.915192347676149e-05\n",
            "Erro quadrático no treinamento:  3.9136983732689396e-05\n",
            "Erro quadrático no treinamento:  2.1892477888858548e-05\n",
            "Erro quadrático no treinamento:  1.3297447459215014e-05\n",
            "Erro quadrático no treinamento:  8.567106026970316e-06\n",
            "Erro quadrático no treinamento:  5.768869720610861e-06\n",
            "Erro quadrático no treinamento:  4.020068109894903e-06\n",
            "Erro quadrático no treinamento:  2.8788906968848765e-06\n",
            "Erro quadrático no treinamento:  2.1078682094051036e-06\n",
            "Erro quadrático no treinamento:  1.5718592038882e-06\n",
            "Erro quadrático no treinamento:  1.1902640206201067e-06\n",
            "Erro quadrático no treinamento:  9.130914149354937e-07\n",
            "Erro quadrático no treinamento:  7.082877567870745e-07\n",
            "Erro quadrático no treinamento:  5.547071205608253e-07\n",
            "Erro quadrático no treinamento:  4.380513084475095e-07\n",
            "Erro quadrático no treinamento:  3.4844209995914015e-07\n",
            "0.08 learnrate hidden 6 \n",
            "A Acurácia da Predição é de: 0.949\n",
            "\n",
            "\n",
            "Erro quadrático no treinamento:  0.26031451063603417  Atenção: O erro está aumentando\n",
            "Erro quadrático no treinamento:  0.0032344636515515795\n",
            "Erro quadrático no treinamento:  0.00022768545555227235\n",
            "Erro quadrático no treinamento:  5.5175678759906665e-05\n",
            "Erro quadrático no treinamento:  1.987848372754254e-05\n",
            "Erro quadrático no treinamento:  8.764785847852179e-06\n",
            "Erro quadrático no treinamento:  4.375394146964849e-06\n",
            "Erro quadrático no treinamento:  2.3760670407723465e-06\n",
            "Erro quadrático no treinamento:  1.3710598617681169e-06\n",
            "Erro quadrático no treinamento:  8.280781589832065e-07\n",
            "Erro quadrático no treinamento:  5.181592354194689e-07\n",
            "Erro quadrático no treinamento:  3.3348965403389214e-07\n",
            "Erro quadrático no treinamento:  2.195910295674315e-07\n",
            "Erro quadrático no treinamento:  1.473359824500099e-07\n",
            "Erro quadrático no treinamento:  1.0041660361689058e-07\n",
            "Erro quadrático no treinamento:  6.934661338131371e-08\n",
            "Erro quadrático no treinamento:  4.842774163665796e-08\n",
            "Erro quadrático no treinamento:  3.414237340055703e-08\n",
            "Erro quadrático no treinamento:  2.4267514011871418e-08\n",
            "Erro quadrático no treinamento:  1.7369468929801267e-08\n",
            "0.1 learnrate hidden 6 \n",
            "A Acurácia da Predição é de: 0.949\n",
            "\n",
            "\n",
            "Erro quadrático no treinamento:  0.23101625820088967  Atenção: O erro está aumentando\n",
            "Erro quadrático no treinamento:  0.000841823944383975\n",
            "Erro quadrático no treinamento:  9.027840718358303e-05\n",
            "Erro quadrático no treinamento:  2.5463513633407653e-05\n",
            "Erro quadrático no treinamento:  1.019465881836802e-05\n",
            "Erro quadrático no treinamento:  4.914061345677252e-06\n",
            "Erro quadrático no treinamento:  2.6580483999574163e-06\n",
            "Erro quadrático no treinamento:  1.554814936460283e-06\n",
            "Erro quadrático no treinamento:  9.622980860295033e-07\n",
            "Erro quadrático no treinamento:  6.214687087020189e-07\n",
            "Erro quadrático no treinamento:  4.1489913625286123e-07\n",
            "Erro quadrático no treinamento:  2.844578250189499e-07\n",
            "Erro quadrático no treinamento:  1.9932192656012236e-07\n",
            "Erro quadrático no treinamento:  1.422255902760919e-07\n",
            "Erro quadrático no treinamento:  1.0305368272479612e-07\n",
            "Erro quadrático no treinamento:  7.565562059867587e-08\n",
            "Erro quadrático no treinamento:  5.617237128668799e-08\n",
            "Erro quadrático no treinamento:  4.211697244333953e-08\n",
            "Erro quadrático no treinamento:  3.184917472745936e-08\n",
            "Erro quadrático no treinamento:  2.426508035532795e-08\n",
            "0.13 learnrate hidden 6 \n",
            "A Acurácia da Predição é de: 0.949\n",
            "\n",
            "\n",
            "Erro quadrático no treinamento:  0.25604299298628813  Atenção: O erro está aumentando\n",
            "Erro quadrático no treinamento:  0.004417301420184828\n",
            "Erro quadrático no treinamento:  0.0002726218527818044\n",
            "Erro quadrático no treinamento:  6.930054732637066e-05\n",
            "Erro quadrático no treinamento:  2.72182617538338e-05\n",
            "Erro quadrático no treinamento:  1.3218543157460352e-05\n",
            "Erro quadrático no treinamento:  7.294634436821369e-06\n",
            "Erro quadrático no treinamento:  4.3867372115680434e-06\n",
            "Erro quadrático no treinamento:  2.8062269398646816e-06\n",
            "Erro quadrático no treinamento:  1.8806757195935731e-06\n",
            "Erro quadrático no treinamento:  1.3068885885703384e-06\n",
            "Erro quadrático no treinamento:  9.348320329375556e-07\n",
            "Erro quadrático no treinamento:  6.846742830036778e-07\n",
            "Erro quadrático no treinamento:  5.113845751628122e-07\n",
            "Erro quadrático no treinamento:  3.883136371405007e-07\n",
            "Erro quadrático no treinamento:  2.9904415658663416e-07\n",
            "Erro quadrático no treinamento:  2.3311163198298347e-07\n",
            "Erro quadrático no treinamento:  1.8364792004512182e-07\n",
            "Erro quadrático no treinamento:  1.460295085957207e-07\n",
            "Erro quadrático no treinamento:  1.170741830712457e-07\n",
            "0.08 learnrate hidden 7 \n",
            "A Acurácia da Predição é de: 0.949\n",
            "\n",
            "\n",
            "Erro quadrático no treinamento:  0.26804296071054  Atenção: O erro está aumentando\n",
            "Erro quadrático no treinamento:  0.0018377607600191166\n",
            "Erro quadrático no treinamento:  0.00012056488732112632\n",
            "Erro quadrático no treinamento:  2.6933076792515205e-05\n",
            "Erro quadrático no treinamento:  9.125225209933843e-06\n",
            "Erro quadrático no treinamento:  3.846610476269159e-06\n",
            "Erro quadrático no treinamento:  1.8585605540286629e-06\n",
            "Erro quadrático no treinamento:  9.858193548085385e-07\n",
            "Erro quadrático no treinamento:  5.593886220655678e-07\n",
            "Erro quadrático no treinamento:  3.3391778804378455e-07\n",
            "Erro quadrático no treinamento:  2.07289453885116e-07\n",
            "Erro quadrático no treinamento:  1.3272510776382566e-07\n",
            "Erro quadrático no treinamento:  8.712180537451746e-08\n",
            "Erro quadrático no treinamento:  5.8357199868702814e-08\n",
            "Erro quadrático no treinamento:  3.974660659818899e-08\n",
            "Erro quadrático no treinamento:  2.7448153411903957e-08\n",
            "Erro quadrático no treinamento:  1.917543999975387e-08\n",
            "Erro quadrático no treinamento:  1.352674780931058e-08\n",
            "Erro quadrático no treinamento:  9.620527477755694e-09\n",
            "Erro quadrático no treinamento:  6.8900037380235145e-09\n",
            "0.1 learnrate hidden 7 \n",
            "A Acurácia da Predição é de: 0.949\n",
            "\n",
            "\n",
            "Erro quadrático no treinamento:  0.2917753093715339  Atenção: O erro está aumentando\n",
            "Erro quadrático no treinamento:  0.0005100130455851727\n",
            "Erro quadrático no treinamento:  3.329477285178622e-05\n",
            "Erro quadrático no treinamento:  7.066947357376863e-06\n",
            "Erro quadrático no treinamento:  2.3030136440097855e-06\n",
            "Erro quadrático no treinamento:  9.406859966425471e-07\n",
            "Erro quadrático no treinamento:  4.4118242893759517e-07\n",
            "Erro quadrático no treinamento:  2.2684737938429463e-07\n",
            "Erro quadrático no treinamento:  1.2442882219596917e-07\n",
            "Erro quadrático no treinamento:  7.15499246847477e-08\n",
            "Erro quadrático no treinamento:  4.2627455057907855e-08\n",
            "Erro quadrático no treinamento:  2.609507340858528e-08\n",
            "Erro quadrático no treinamento:  1.6314935380926304e-08\n",
            "Erro quadrático no treinamento:  1.0370422532128283e-08\n",
            "Erro quadrático no treinamento:  6.678559415422387e-09\n",
            "Erro quadrático no treinamento:  4.345858242427878e-09\n",
            "Erro quadrático no treinamento:  2.851423070754603e-09\n",
            "Erro quadrático no treinamento:  1.883312208344195e-09\n",
            "Erro quadrático no treinamento:  1.2505044372687746e-09\n",
            "Erro quadrático no treinamento:  8.338465619468969e-10\n",
            "0.13 learnrate hidden 7 \n",
            "A Acurácia da Predição é de: 0.949\n",
            "\n",
            "\n",
            "Erro quadrático no treinamento:  0.2546331545644613  Atenção: O erro está aumentando\n",
            "Erro quadrático no treinamento:  0.0013545218903075833\n",
            "Erro quadrático no treinamento:  8.295932051759038e-05\n",
            "Erro quadrático no treinamento:  1.8636082722211923e-05\n",
            "Erro quadrático no treinamento:  6.513753523763114e-06\n",
            "Erro quadrático no treinamento:  2.8554786238588415e-06\n",
            "Erro quadrático no treinamento:  1.4385472995879256e-06\n",
            "Erro quadrático no treinamento:  7.961849781718037e-07\n",
            "Erro quadrático no treinamento:  4.7144387506361214e-07\n",
            "Erro quadrático no treinamento:  2.936203452995702e-07\n",
            "Erro quadrático no treinamento:  1.9013446969397196e-07\n",
            "Erro quadrático no treinamento:  1.2696654118961984e-07\n",
            "Erro quadrático no treinamento:  8.690687845641255e-08\n",
            "Erro quadrático no treinamento:  6.0698909733102e-08\n",
            "Erro quadrático no treinamento:  4.310680031038368e-08\n",
            "Erro quadrático no treinamento:  3.104203813713811e-08\n",
            "Erro quadrático no treinamento:  2.2617030649061634e-08\n",
            "Erro quadrático no treinamento:  1.6642708884433997e-08\n",
            "Erro quadrático no treinamento:  1.2350265582183004e-08\n",
            "Erro quadrático no treinamento:  9.231264982447234e-09\n",
            "0.08 learnrate hidden 8 \n",
            "A Acurácia da Predição é de: 0.949\n",
            "\n",
            "\n",
            "Erro quadrático no treinamento:  0.2144368028023627  Atenção: O erro está aumentando\n",
            "Erro quadrático no treinamento:  0.0019393102961342355\n",
            "Erro quadrático no treinamento:  0.00014472522047141972\n",
            "Erro quadrático no treinamento:  3.536561335885654e-05\n",
            "Erro quadrático no treinamento:  1.2816065381355548e-05\n",
            "Erro quadrático no treinamento:  5.685999840109922e-06\n",
            "Erro quadrático no treinamento:  2.857167723665338e-06\n",
            "Erro quadrático no treinamento:  1.561990457066891e-06\n",
            "Erro quadrático no treinamento:  9.072759383039024e-07\n",
            "Erro quadrático no treinamento:  5.514776234141462e-07\n",
            "Erro quadrático no treinamento:  3.47197492499413e-07\n",
            "Erro quadrático no treinamento:  2.2476270295352375e-07\n",
            "Erro quadrático no treinamento:  1.4881783328065686e-07\n",
            "Erro quadrático no treinamento:  1.0037413652185736e-07\n",
            "Erro quadrático no treinamento:  6.875011840127432e-08\n",
            "Erro quadrático no treinamento:  4.7702557023423526e-08\n",
            "Erro quadrático no treinamento:  3.3463118170409454e-08\n",
            "Erro quadrático no treinamento:  2.369434357821486e-08\n",
            "Erro quadrático no treinamento:  1.691199437674123e-08\n",
            "Erro quadrático no treinamento:  1.2154330292264017e-08\n",
            "0.1 learnrate hidden 8 \n",
            "A Acurácia da Predição é de: 0.949\n",
            "\n",
            "\n",
            "Erro quadrático no treinamento:  0.30790109442598634  Atenção: O erro está aumentando\n",
            "Erro quadrático no treinamento:  0.0003048187551671344\n",
            "Erro quadrático no treinamento:  2.4185345971870232e-05\n",
            "Erro quadrático no treinamento:  5.454130981359019e-06\n",
            "Erro quadrático no treinamento:  1.8167697890938941e-06\n",
            "Erro quadrático no treinamento:  7.468511833659162e-07\n",
            "Erro quadrático no treinamento:  3.500842989884748e-07\n",
            "Erro quadrático no treinamento:  1.793271632119531e-07\n",
            "Erro quadrático no treinamento:  9.784883150917328e-08\n",
            "Erro quadrático no treinamento:  5.593916108854488e-08\n",
            "Erro quadrático no treinamento:  3.312905200045802e-08\n",
            "Erro quadrático no treinamento:  2.016128067319727e-08\n",
            "Erro quadrático no treinamento:  1.2532564056446193e-08\n",
            "Erro quadrático no treinamento:  7.921285619804818e-09\n",
            "Erro quadrático no treinamento:  5.0728672444890035e-09\n",
            "Erro quadrático no treinamento:  3.2825840615245443e-09\n",
            "Erro quadrático no treinamento:  2.141637291258379e-09\n",
            "Erro quadrático no treinamento:  1.406428937921334e-09\n",
            "Erro quadrático no treinamento:  9.284978075176322e-10\n",
            "Erro quadrático no treinamento:  6.156472784562132e-10\n",
            "0.13 learnrate hidden 8 \n",
            "A Acurácia da Predição é de: 0.949\n",
            "\n",
            "\n",
            "Melhores resultados hidden 4, learn 0.08 com 0.9493670886075949 \n"
          ]
        }
      ],
      "source": [
        "#Tamanho do DataSet de Treinamento\n",
        "n_records, n_features = X_train.shape\n",
        "N_input = 4\n",
        "N_output = 2\n",
        "epochs = 20000\n",
        "last_loss=None\n",
        "EvolucaoError=[]\n",
        "IndiceError=[]\n",
        "B_hidden = 0\n",
        "B_learn = 0\n",
        "ac = 0\n",
        "for h in [ 4 ,6, 7, 8]:\n",
        "  for l  in [ 0.08, 0.1, 0.13]:\n",
        "    N_hidden = h\n",
        "    #Pesos da Camada Oculta (Inicialização Aleatória)\n",
        "    weights_input_hidden = np.random.normal(0, scale=0.1, size=(N_input, N_hidden))\n",
        "    #Pesos da Camada de Saída (Inicialização Aleatória)\n",
        "    weights_hidden_output = np.random.normal(0, scale=0.1, size=(N_hidden, N_output))\n",
        "\n",
        "    learnrate = l\n",
        "    for e in range(epochs):\n",
        "        delta_w_i_h = np.zeros(weights_input_hidden.shape)\n",
        "        delta_w_h_o = np.zeros(weights_hidden_output.shape)\n",
        "        for xi, yi in zip(X_train.values, y_train.values):\n",
        "            \n",
        "    # Forward Pass\n",
        "            #Camada oculta\n",
        "            #Calcule a combinação linear de entradas e pesos sinápticos\n",
        "            hidden_layer_input = np.dot(xi, weights_input_hidden)\n",
        "            #Aplicado a função de ativação\n",
        "            hidden_layer_output = sigmoid(hidden_layer_input)\n",
        "        \n",
        "            #Camada de Saída\n",
        "            #Calcule a combinação linear de entradas e pesos sinápticos\n",
        "            output_layer_in = np.dot(hidden_layer_output, weights_hidden_output)\n",
        "\n",
        "            #Aplicado a função de ativação \n",
        "            output = sigmoid(output_layer_in)\n",
        "            #print('As saídas da rede são',output)\n",
        "    #-------------------------------------------    \n",
        "        \n",
        "    # Backward Pass\n",
        "            ## TODO: Cálculo do Erro\n",
        "            error = yi - output\n",
        "        \n",
        "            # TODO: Calcule o termo de erro de saída (Gradiente da Camada de Saída)\n",
        "            output_error_term = error * output * (1 - output)\n",
        "\n",
        "            # TODO: Calcule a contribuição da camada oculta para o erro\n",
        "            hidden_error = np.dot(weights_hidden_output,output_error_term)\n",
        "        \n",
        "            # TODO: Calcule o termo de erro da camada oculta (Gradiente da Camada Oculta)\n",
        "            hidden_error_term = hidden_error * hidden_layer_output * (1 - hidden_layer_output)\n",
        "        \n",
        "            # TODO: Calcule a variação do peso da camada de saída\n",
        "            delta_w_h_o += output_error_term*hidden_layer_output[:, None]\n",
        "\n",
        "            # TODO: Calcule a variação do peso da camada oculta\n",
        "            delta_w_i_h += hidden_error_term * xi[:, None]\n",
        "            \n",
        "        #Atualização dos pesos na época em questão\n",
        "        weights_input_hidden += learnrate * delta_w_i_h / n_records\n",
        "        weights_hidden_output += learnrate * delta_w_h_o / n_records\n",
        "        \n",
        "        \n",
        "        # Imprimir o erro quadrático médio no conjunto de treinamento\n",
        "        \n",
        "        if  e % (epochs / 20) == 0:\n",
        "            hidden_output = sigmoid(np.dot(xi, weights_input_hidden))\n",
        "            out = sigmoid(np.dot(hidden_output,\n",
        "                                weights_hidden_output))\n",
        "            loss = np.mean((out - yi) ** 2)\n",
        "\n",
        "            if last_loss and last_loss < loss:\n",
        "                print(\"Erro quadrático no treinamento: \", loss, \" Atenção: O erro está aumentando\")\n",
        "            else:\n",
        "                print(\"Erro quadrático no treinamento: \", loss)\n",
        "            last_loss = loss\n",
        "            \n",
        "            EvolucaoError.append(loss)\n",
        "            IndiceError.append(e)\n",
        "    # Calcule a precisão dos dados de teste\n",
        "    n_records, n_features = X_test.shape\n",
        "    predictions=0\n",
        "\n",
        "    for xi, yi in zip(X_test.values, y_test.values):\n",
        "\n",
        "  # Forward Pass\n",
        "      #Camada oculta\n",
        "      #Calcule a combinação linear de entradas e pesos sinápticos\n",
        "      hidden_layer_input = np.dot(xi, weights_input_hidden)\n",
        "      #Aplicado a função de ativação\n",
        "      hidden_layer_output = sigmoid(hidden_layer_input)\n",
        "\n",
        "      #Camada de Saída\n",
        "      #Calcule a combinação linear de entradas e pesos sinápticos\n",
        "      output_layer_in = np.dot(hidden_layer_output, weights_hidden_output)\n",
        "\n",
        "      #Aplicado a função de ativação \n",
        "      output = sigmoid(output_layer_in)\n",
        "\n",
        "  #-------------------------------------------    \n",
        "\n",
        "  #Cálculo do Erro da Predição\n",
        "      ## TODO: Cálculo do Erro        \n",
        "      if (output[0]>output[1]):\n",
        "          if (yi[0]>yi[1]):\n",
        "              predictions+=1\n",
        "              \n",
        "      if (output[1]>=output[0]):\n",
        "          if (yi[1]>yi[0]):\n",
        "              predictions+=1\n",
        "    print(f'{l} learnrate hidden {h} ')\n",
        "    print(\"A Acurácia da Predição é de: {:.3f}\\n\\n\".format(predictions/n_records))\n",
        "    if predictions/n_records > ac:\n",
        "      ac = predictions/n_records\n",
        "      B_hidden = h\n",
        "      B_learn = l\n",
        "\n",
        "    # Calcule a precisão dos dados de teste\n",
        "print(f\"Melhores resultados hidden {B_hidden}, learn {B_learn} com {ac} \")"
      ]
    }
  ],
  "metadata": {
    "colab": {
      "name": "TrabalhoRNA.ipynb",
      "provenance": []
    },
    "kernelspec": {
      "display_name": "Python 3",
      "language": "python",
      "name": "python3"
    },
    "language_info": {
      "codemirror_mode": {
        "name": "ipython",
        "version": 3
      },
      "file_extension": ".py",
      "mimetype": "text/x-python",
      "name": "python",
      "nbconvert_exporter": "python",
      "pygments_lexer": "ipython3",
      "version": "3.7.3"
    }
  },
  "nbformat": 4,
  "nbformat_minor": 0
}